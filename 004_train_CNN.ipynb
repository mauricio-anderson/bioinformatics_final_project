{
 "cells": [
  {
   "cell_type": "code",
   "execution_count": 153,
   "id": "3ac13f6c-a061-4c24-a5fc-081ea6283a62",
   "metadata": {},
   "outputs": [
    {
     "name": "stdout",
     "output_type": "stream",
     "text": [
      "The autoreload extension is already loaded. To reload it, use:\n",
      "  %reload_ext autoreload\n"
     ]
    }
   ],
   "source": [
    "%load_ext autoreload\n",
    "%autoreload 2"
   ]
  },
  {
   "cell_type": "markdown",
   "id": "9dab7de8-eb23-47d7-a771-28a2397d0a54",
   "metadata": {},
   "source": [
    "# Modelo CNN con generador, embedings de smiles y data-augmentation"
   ]
  },
  {
   "cell_type": "code",
   "execution_count": 154,
   "id": "21bee0a3-79a7-43b2-9ac2-15cad5630e22",
   "metadata": {
    "tags": []
   },
   "outputs": [],
   "source": [
    "import pandas as pd\n",
    "import numpy as np\n",
    "from datetime import datetime as dt\n",
    "from datagen import smiles_dict, smiles_to_seq"
   ]
  },
  {
   "cell_type": "markdown",
   "id": "20aa799f-b75c-4d23-869b-fea6d041a6e9",
   "metadata": {
    "tags": []
   },
   "source": [
    "### smiles_dict"
   ]
  },
  {
   "cell_type": "markdown",
   "id": "b9c9312c-4232-414c-b0ff-1e6fb6dba1a6",
   "metadata": {},
   "source": [
    "smiles_dict nos da un tokenizador para simplificar el problema. Puede ver como se construyó en la notebook **deep_chem**.\n",
    "Si al momento de correr el modelo con este diccionario encuentra problemas de key_error, puede agregar los faltantes al diccionario\n",
    "\n",
    "Mirar dentro de **datagen.py** como se usa este diccionario con la función **smiles_to_seq** para tokenizar. El código es muy sencillo"
   ]
  },
  {
   "cell_type": "code",
   "execution_count": 155,
   "id": "e29ef48f-4b67-42a4-83af-e7d0bb980c4b",
   "metadata": {},
   "outputs": [
    {
     "name": "stdout",
     "output_type": "stream",
     "text": [
      "42 / {'#': 1, '(': 2, ')': 3, '+': 4, '-': 5, '/': 6, '1': 7, '2': 8, '3': 9, '4': 10, '5': 11, '6': 12, '7': 13, '8': 14, '=': 15, 'C': 16, 'F': 17, 'H': 18, 'I': 19, 'N': 20, 'O': 21, 'P': 22, 'S': 23, '[': 24, '\\\\': 25, ']': 26, '_': 27, 'c': 28, 'Cl': 29, 'Br': 30, 'n': 31, 'o': 32, 's': 33, '@': 34, '.': 35, 'a': 36, 'B': 37, 'e': 38, 'i': 39, '9': 40, '10': 41, '11': 42}\n"
     ]
    }
   ],
   "source": [
    "print(len(smiles_dict), smiles_dict, sep=\" / \")"
   ]
  },
  {
   "cell_type": "markdown",
   "id": "b103a4e0-038d-406b-aab8-5c9452ede04e",
   "metadata": {},
   "source": [
    "# Carga de los datos"
   ]
  },
  {
   "cell_type": "code",
   "execution_count": 156,
   "id": "353a2d75-f0f4-4563-9842-c68d77118161",
   "metadata": {},
   "outputs": [],
   "source": [
    "df = pd.read_csv(\n",
    "    'data/acetylcholinesterase_02_bioactivity_data_preprocessed.csv'\n",
    ")"
   ]
  },
  {
   "cell_type": "code",
   "execution_count": 157,
   "id": "4e7fcdcb-ad53-4ebf-bc17-a241c79269da",
   "metadata": {},
   "outputs": [],
   "source": [
    "max_len_idx = df['canonical_smiles'].apply(len).argmax()\n",
    "min_len_idx = df['canonical_smiles'].apply(len).argmin()\n",
    "max_sequence_len = len(df['canonical_smiles'].iloc[max_len_idx]) + 20"
   ]
  },
  {
   "cell_type": "code",
   "execution_count": 158,
   "id": "d1554fa5-d9ee-456c-be20-80571e319fc6",
   "metadata": {},
   "outputs": [
    {
     "data": {
      "text/html": [
       "<div>\n",
       "<style scoped>\n",
       "    .dataframe tbody tr th:only-of-type {\n",
       "        vertical-align: middle;\n",
       "    }\n",
       "\n",
       "    .dataframe tbody tr th {\n",
       "        vertical-align: top;\n",
       "    }\n",
       "\n",
       "    .dataframe thead th {\n",
       "        text-align: right;\n",
       "    }\n",
       "</style>\n",
       "<table border=\"1\" class=\"dataframe\">\n",
       "  <thead>\n",
       "    <tr style=\"text-align: right;\">\n",
       "      <th></th>\n",
       "      <th>molecule_chembl_id</th>\n",
       "      <th>canonical_smiles</th>\n",
       "      <th>standard_value</th>\n",
       "      <th>standard_value_norm</th>\n",
       "      <th>pIC50</th>\n",
       "    </tr>\n",
       "  </thead>\n",
       "  <tbody>\n",
       "    <tr>\n",
       "      <th>0</th>\n",
       "      <td>CHEMBL133897</td>\n",
       "      <td>CCOc1nn(-c2cccc(OCc3ccccc3)c2)c(=O)o1</td>\n",
       "      <td>750.0</td>\n",
       "      <td>750.0</td>\n",
       "      <td>6.124939</td>\n",
       "    </tr>\n",
       "    <tr>\n",
       "      <th>1</th>\n",
       "      <td>CHEMBL336398</td>\n",
       "      <td>O=C(N1CCCCC1)n1nc(-c2ccc(Cl)cc2)nc1SCC1CC1</td>\n",
       "      <td>100.0</td>\n",
       "      <td>100.0</td>\n",
       "      <td>7.000000</td>\n",
       "    </tr>\n",
       "    <tr>\n",
       "      <th>2</th>\n",
       "      <td>CHEMBL131588</td>\n",
       "      <td>CN(C(=O)n1nc(-c2ccc(Cl)cc2)nc1SCC(F)(F)F)c1ccccc1</td>\n",
       "      <td>50000.0</td>\n",
       "      <td>50000.0</td>\n",
       "      <td>4.301030</td>\n",
       "    </tr>\n",
       "    <tr>\n",
       "      <th>3</th>\n",
       "      <td>CHEMBL130628</td>\n",
       "      <td>O=C(N1CCCCC1)n1nc(-c2ccc(Cl)cc2)nc1SCC(F)(F)F</td>\n",
       "      <td>300.0</td>\n",
       "      <td>300.0</td>\n",
       "      <td>6.522879</td>\n",
       "    </tr>\n",
       "    <tr>\n",
       "      <th>4</th>\n",
       "      <td>CHEMBL130478</td>\n",
       "      <td>CSc1nc(-c2ccc(OC(F)(F)F)cc2)nn1C(=O)N(C)C</td>\n",
       "      <td>800.0</td>\n",
       "      <td>800.0</td>\n",
       "      <td>6.096910</td>\n",
       "    </tr>\n",
       "  </tbody>\n",
       "</table>\n",
       "</div>"
      ],
      "text/plain": [
       "  molecule_chembl_id                                   canonical_smiles  \\\n",
       "0       CHEMBL133897              CCOc1nn(-c2cccc(OCc3ccccc3)c2)c(=O)o1   \n",
       "1       CHEMBL336398         O=C(N1CCCCC1)n1nc(-c2ccc(Cl)cc2)nc1SCC1CC1   \n",
       "2       CHEMBL131588  CN(C(=O)n1nc(-c2ccc(Cl)cc2)nc1SCC(F)(F)F)c1ccccc1   \n",
       "3       CHEMBL130628      O=C(N1CCCCC1)n1nc(-c2ccc(Cl)cc2)nc1SCC(F)(F)F   \n",
       "4       CHEMBL130478          CSc1nc(-c2ccc(OC(F)(F)F)cc2)nn1C(=O)N(C)C   \n",
       "\n",
       "   standard_value  standard_value_norm     pIC50  \n",
       "0           750.0                750.0  6.124939  \n",
       "1           100.0                100.0  7.000000  \n",
       "2         50000.0              50000.0  4.301030  \n",
       "3           300.0                300.0  6.522879  \n",
       "4           800.0                800.0  6.096910  "
      ]
     },
     "execution_count": 158,
     "metadata": {},
     "output_type": "execute_result"
    }
   ],
   "source": [
    "df.head()"
   ]
  },
  {
   "cell_type": "code",
   "execution_count": 159,
   "id": "9675f7e8-a8e6-44ff-b1c5-b229cbbeb2e9",
   "metadata": {},
   "outputs": [],
   "source": [
    "X = df['canonical_smiles'].values\n",
    "y = df['pIC50'].values"
   ]
  },
  {
   "cell_type": "markdown",
   "id": "dd87900d-dca2-4f0e-a5c2-58fef4266a67",
   "metadata": {},
   "source": [
    "# Data augmentation:\n",
    "\n",
    "https://arxiv.org/pdf/1703.07076.pdf\n",
    "\n",
    "https://github.com/EBjerrum/molvecgen\n",
    "\n",
    "https://github.com/Ebjerrum/SMILES-enumeration"
   ]
  },
  {
   "cell_type": "markdown",
   "id": "605fb205-e7e7-45fb-99bd-2e6f490977a8",
   "metadata": {},
   "source": [
    "En la publicación de arriba se describe una técnica de aumentación de datos para los smiles. Leerla si es de su interes (Opcional)\n",
    "\n",
    "En el módulo **dataug.py**, tomando como referencia los repositorios arriba citados se implementó la aumentación de datos"
   ]
  },
  {
   "cell_type": "code",
   "execution_count": 160,
   "id": "d4733af9-9c49-4c2f-bb1d-dc7f180cc66f",
   "metadata": {},
   "outputs": [
    {
     "name": "stdout",
     "output_type": "stream",
     "text": [
      "c1cc(-n2nc(OCC)oc2=O)cc(OCc2ccccc2)c1\n",
      "n1(-c2cc(OCc3ccccc3)ccc2)c(=O)oc(OCC)n1\n",
      "C(c1ccccc1)Oc1cccc(-n2nc(OCC)oc2=O)c1\n",
      "c1ccc(OCc2ccccc2)cc1-n1nc(OCC)oc1=O\n",
      "C(Oc1nn(-c2cccc(OCc3ccccc3)c2)c(=O)o1)C\n",
      "c1c(OCc2ccccc2)cc(-n2nc(OCC)oc2=O)cc1\n",
      "c1cc(COc2cccc(-n3nc(OCC)oc3=O)c2)ccc1\n",
      "c1c(OCc2ccccc2)cc(-n2c(=O)oc(OCC)n2)cc1\n",
      "c1c(-n2c(=O)oc(OCC)n2)cccc1OCc1ccccc1\n",
      "c1c(OCc2ccccc2)cc(-n2nc(OCC)oc2=O)cc1\n"
     ]
    }
   ],
   "source": [
    "from dataaug import SmilesEnumerator\n",
    "\n",
    "sme = SmilesEnumerator()\n",
    "\n",
    "for i in range(10):\n",
    "    print(sme.randomize_smiles('CCOc1nn(-c2cccc(OCc3ccccc3)c2)c(=O)o1'))\n",
    "    "
   ]
  },
  {
   "cell_type": "markdown",
   "id": "7a1923d3-1df0-4df1-a43c-ec30eff6fe4d",
   "metadata": {},
   "source": [
    "# DataGenerator"
   ]
  },
  {
   "cell_type": "markdown",
   "id": "fc6a3c67-9f44-4052-9e93-9e274f08c1b5",
   "metadata": {},
   "source": [
    "Construir un generador al que se le pase al instanciarlo:\n",
    "- X: smiles (formula química)\n",
    "- y: pIC50\n",
    "- batch_size\n",
    "- max_sequence_len (int): La máxima longitud de las secuencias (para hacer el padding)\n",
    "- data_augmentation (boolean): si quiero hacer o no data-augmentation. \n",
    "- shuffle (boolean)\n",
    "\n",
    "Guardarlo en el módulo **datagen.py** con el nombre de la clase **DataGenerator**\n",
    "\n",
    "Notar que el módulo **datagen.py** ya tiene una estructura para completar"
   ]
  },
  {
   "cell_type": "markdown",
   "id": "f602f3e4-24aa-41ee-9f83-89ec3acc96f1",
   "metadata": {},
   "source": [
    "### Importamos el módulo y lo probamos"
   ]
  },
  {
   "cell_type": "code",
   "execution_count": 161,
   "id": "413bce05-2685-4c84-8a43-c3dd8ed74e11",
   "metadata": {},
   "outputs": [],
   "source": [
    "from datagen import DataGenerator"
   ]
  },
  {
   "cell_type": "code",
   "execution_count": 162,
   "id": "52aa520a-a84b-4d8b-a22e-6b4a5cc7e65a",
   "metadata": {},
   "outputs": [],
   "source": [
    "dgen = DataGenerator(X, y, max_sequence_len, batch_size=16)"
   ]
  },
  {
   "cell_type": "code",
   "execution_count": 163,
   "id": "b3212e31-dd2c-4ebc-b9a0-78ed4bb5d78d",
   "metadata": {},
   "outputs": [
    {
     "data": {
      "text/plain": [
       "5824"
      ]
     },
     "execution_count": 163,
     "metadata": {},
     "output_type": "execute_result"
    }
   ],
   "source": [
    "len(dgen) * dgen.batch_size"
   ]
  },
  {
   "cell_type": "code",
   "execution_count": 164,
   "id": "133033ed-a3b1-4572-aaaf-f4cb2a055724",
   "metadata": {},
   "outputs": [
    {
     "name": "stdout",
     "output_type": "stream",
     "text": [
      "363\r"
     ]
    }
   ],
   "source": [
    "for i, (X_b, y_b) in enumerate(dgen):\n",
    "    print(f'{i}\\r', end='')"
   ]
  },
  {
   "cell_type": "markdown",
   "id": "4233710d-9274-4dae-b22d-cf42b57ad862",
   "metadata": {},
   "source": [
    "# Split"
   ]
  },
  {
   "cell_type": "code",
   "execution_count": 165,
   "id": "ce7a95e6-2486-42fb-97fb-865e3fd6a561",
   "metadata": {},
   "outputs": [],
   "source": [
    "from sklearn.model_selection import train_test_split"
   ]
  },
  {
   "cell_type": "code",
   "execution_count": 166,
   "id": "fcb9840f-2f41-45be-99a5-f05f3ab73ed8",
   "metadata": {},
   "outputs": [
    {
     "data": {
      "text/plain": [
       "(3726, 932, 1165)"
      ]
     },
     "execution_count": 166,
     "metadata": {},
     "output_type": "execute_result"
    }
   ],
   "source": [
    "X_train, X_test, y_train, y_test = train_test_split(\n",
    "    X, \n",
    "    y, \n",
    "    test_size=0.2, \n",
    "    random_state=88\n",
    ")\n",
    "\n",
    "X_train, X_val, y_train, y_val = train_test_split(\n",
    "    X_train, \n",
    "    y_train, \n",
    "    test_size=0.2, \n",
    "    random_state=88\n",
    ")\n",
    "\n",
    "len(X_train), len(X_val), len(X_test)"
   ]
  },
  {
   "cell_type": "code",
   "execution_count": 167,
   "id": "929de60c-7128-4e35-8efc-4b5f9ee9471c",
   "metadata": {},
   "outputs": [
    {
     "data": {
      "text/plain": [
       "array(['c1ccc2[nH]c(NC34CC5CC(CC(C5)C3)C4)nc2c1',\n",
       "       'CCOC(=O)c1c(C)nc(N2CCN(S(=O)(=O)c3ccc(NC(C)=O)cc3)CC2)nc1-c1ccccc1',\n",
       "       'O=C(CCCCCCCNc1c2c(nc3cc(Cl)cc(Cl)c13)CCCC2)NCCc1c[nH]c2ccccc12',\n",
       "       ..., 'CCCCCCCCOC[n+]1ccn(C)c1/C=N/O.[Cl-]',\n",
       "       'Cc1c(C)c2ccc(OCCCCN(C)Cc3ccccc3)cc2oc1=O',\n",
       "       'COc1ccc(/C=C/C(=O)NCCC2CCN(Cc3ccccc3)CC2)cc1OC'], dtype=object)"
      ]
     },
     "execution_count": 167,
     "metadata": {},
     "output_type": "execute_result"
    }
   ],
   "source": [
    "X_train"
   ]
  },
  {
   "cell_type": "code",
   "execution_count": 168,
   "id": "dd72855a-8310-4a5e-b5c8-7fe181ea8edd",
   "metadata": {},
   "outputs": [],
   "source": [
    "dgen_train = DataGenerator(X_train, y_train, seq_length=max_sequence_len, batch_size=128, data_augmentation=True)\n",
    "dgen_val = DataGenerator(X_val, y_val, seq_length=max_sequence_len, batch_size=128, data_augmentation=False)\n",
    "dgen_test = DataGenerator(X_test, y_test, seq_length=max_sequence_len, batch_size=128, data_augmentation=False)"
   ]
  },
  {
   "cell_type": "code",
   "execution_count": 169,
   "id": "1bf28e8f-b29e-4b60-b7a2-4f08ff5a547b",
   "metadata": {},
   "outputs": [
    {
     "name": "stdout",
     "output_type": "stream",
     "text": [
      "9\r"
     ]
    }
   ],
   "source": [
    "for i, (X_b, y_b) in enumerate(dgen_test):\n",
    "    print(f'{i}\\r', end='')"
   ]
  },
  {
   "cell_type": "code",
   "execution_count": 170,
   "id": "222c7f1c-7f3e-40b4-9fb5-5b3ea340c3b0",
   "metadata": {},
   "outputs": [
    {
     "data": {
      "text/plain": [
       "(13, 227)"
      ]
     },
     "execution_count": 170,
     "metadata": {},
     "output_type": "execute_result"
    }
   ],
   "source": [
    "X_b.shape"
   ]
  },
  {
   "cell_type": "markdown",
   "id": "85941430-2534-4d7d-ba52-d934a31c1bf6",
   "metadata": {},
   "source": [
    "# Network Model"
   ]
  },
  {
   "cell_type": "code",
   "execution_count": 171,
   "id": "6bd5d1bf-4640-4cbc-acd3-72881ddcc07e",
   "metadata": {
    "tags": []
   },
   "outputs": [],
   "source": [
    "from tensorflow.keras import backend as K\n",
    "\n",
    "from tensorflow.keras.callbacks import ModelCheckpoint, EarlyStopping, TensorBoard\n",
    "from tensorflow.keras.optimizers import Adam\n",
    "from tensorflow.keras.models import Model\n",
    "from tensorflow.keras.layers import (\n",
    "    Dense, Activation, Embedding, Flatten, Dropout, \n",
    "    Concatenate, Input,\n",
    "    Conv1D, MaxPool1D, GlobalAveragePooling1D\n",
    ")\n"
   ]
  },
  {
   "cell_type": "code",
   "execution_count": 172,
   "id": "8308048c-be62-473c-965a-4a11d0b613d7",
   "metadata": {},
   "outputs": [],
   "source": [
    "# Métrica\n",
    "def R2(y_true, y_pred):\n",
    "    SS_res =  K.sum(K.square( y_true-y_pred ))\n",
    "    SS_tot = K.sum(K.square( y_true - K.mean(y_true) ) )\n",
    "    return ( 1 - SS_res/(SS_tot + K.epsilon()) )\n",
    "\n",
    "def calculate_r2(y_true, y_pred, _round=8):\n",
    "    return round(1 - ((y_true - y_pred.reshape(-1)) ** 2).sum() / ((y_true - y_true.mean()) ** 2).sum(), _round)"
   ]
  },
  {
   "cell_type": "code",
   "execution_count": 173,
   "id": "4362dcc3-1e89-4d8c-b5e6-2b67a5d37074",
   "metadata": {},
   "outputs": [],
   "source": [
    "mcp = ModelCheckpoint(\n",
    "    'models/best_model_{epoch}', \n",
    "    save_best_only=True, \n",
    "    save_format=\"h5\"\n",
    ")"
   ]
  },
  {
   "cell_type": "code",
   "execution_count": 174,
   "id": "5f03bbe2-e1ac-481d-8f17-a390c31242b7",
   "metadata": {},
   "outputs": [],
   "source": [
    "# EarlyStopping\n",
    "early_stopping = EarlyStopping(\n",
    "    monitor='val_loss',\n",
    "    patience=10,                  # number of epochs with no improvement (0 means the training \n",
    "                                  # is terminated as soon as the performance measure gets worse \n",
    "                                  # from one epoch to the next)\n",
    "    restore_best_weights=True\n",
    ")"
   ]
  },
  {
   "cell_type": "code",
   "execution_count": 175,
   "id": "ff491079-3a55-4902-b5c0-52efe549d0a8",
   "metadata": {},
   "outputs": [],
   "source": [
    "# Tensorboard\n",
    "tensorboard = TensorBoard(\n",
    "    log_dir=\"logs/fit/model-default\",\n",
    "    histogram_freq=1,\n",
    "    write_graph=False,\n",
    "    write_images=False\n",
    ")"
   ]
  },
  {
   "cell_type": "code",
   "execution_count": 176,
   "id": "98aa4201-cd4e-4d7f-b695-9e32b5dfe1c6",
   "metadata": {},
   "outputs": [],
   "source": [
    "# Implementar modelo de TextCNN\n",
    "\n",
    "def text_cnn_1d(sequence_length, vocab_size, embedding_size, filter_sizes, num_filters):\n",
    "    \"\"\" \"\"\"\n",
    "    \n",
    "    # ref: https://analyticsindiamag.com/guide-to-text-classification-using-textcnn/\n",
    "\n",
    "    num_pools = 4\n",
    "\n",
    "    input_x = Input(shape=(sequence_length,), name='input_x')\n",
    "    embedding = Embedding(\n",
    "        input_dim = vocab_size + 1,\n",
    "        output_dim = embedding_size, \n",
    "        name = 'embedding'\n",
    "        )(input_x)\n",
    "    pooled_outputs = []\n",
    "\n",
    "    for filter_size in filter_sizes:\n",
    "    \n",
    "        conv = Conv1D(\n",
    "            filters = num_filters, \n",
    "            kernel_size = filter_size, \n",
    "            activation = \"relu\"\n",
    "        )(embedding)\n",
    "\n",
    "        max_p = MaxPool1D(\n",
    "            pool_size = int(np.ceil(sequence_length - filter_size + 1) / num_pools)\n",
    "        )(conv)\n",
    "\n",
    "        pooled_outputs.append(max_p)    \n",
    "\n",
    "    h_pool = Concatenate(axis=2)(pooled_outputs)\n",
    "    dense = Flatten()(h_pool)\n",
    "    dense = Dense(100, activation=\"relu\")(dense)\n",
    "    dense = Dense(50, activation=\"relu\")(dense)\n",
    "    dense = Dense(1)(dense) # Salida\n",
    "\n",
    "    model = Model(input_x, dense)\n",
    "    \n",
    "    return model"
   ]
  },
  {
   "cell_type": "code",
   "execution_count": 177,
   "id": "d3db729c-1a80-40ad-b3e5-59329b172ee0",
   "metadata": {},
   "outputs": [],
   "source": [
    "# Hiperparámtros de referencia\n",
    "FILTER_SIZES = (3, 4, 5, 6)\n",
    "NUM_FILTERS = 256\n",
    "vocab_size = len(smiles_dict)\n",
    "embeddings_size = 128"
   ]
  },
  {
   "cell_type": "code",
   "execution_count": 178,
   "id": "0e0903a5-9840-4994-9964-8e2d3e9eb326",
   "metadata": {},
   "outputs": [],
   "source": [
    "model = text_cnn_1d(\n",
    "    max_sequence_len,\n",
    "    vocab_size,\n",
    "    embeddings_size,\n",
    "    FILTER_SIZES,\n",
    "    NUM_FILTERS\n",
    ")"
   ]
  },
  {
   "cell_type": "code",
   "execution_count": 179,
   "id": "9138b411-fc5d-41bd-8c8e-c12580cc5b14",
   "metadata": {},
   "outputs": [],
   "source": [
    "model.compile(optimizer=Adam(learning_rate=0.0001), loss='mse', metrics=[R2])"
   ]
  },
  {
   "cell_type": "code",
   "execution_count": 180,
   "id": "eb1616d0-c1e3-43e0-b779-e415b94b7415",
   "metadata": {},
   "outputs": [
    {
     "name": "stdout",
     "output_type": "stream",
     "text": [
      "Known TensorBoard instances:\n",
      "  - port 6006: logdir logs/fit/ (started 1 day, 3:21:32 ago; pid 2193)\n"
     ]
    }
   ],
   "source": [
    "## Tensorboard\n",
    "from tensorboard import notebook\n",
    "notebook.list() \n",
    "\n",
    "# %tensorboard --logdir logs/fit/\n",
    "# !tensorboard --logdir logs/fit/ -> Run in your cli (with poetry)"
   ]
  },
  {
   "cell_type": "code",
   "execution_count": 181,
   "id": "3f37ab4e-0e3a-44c6-a572-ba5c67930c61",
   "metadata": {
    "collapsed": true,
    "jupyter": {
     "outputs_hidden": true
    },
    "tags": []
   },
   "outputs": [
    {
     "name": "stdout",
     "output_type": "stream",
     "text": [
      "Epoch 1/500\n",
      "30/30 [==============================] - 19s 587ms/step - loss: 32.8963 - R2: -11.9180 - val_loss: 26.9319 - val_R2: -9.2178\n",
      "Epoch 2/500\n",
      "30/30 [==============================] - 18s 606ms/step - loss: 17.0947 - R2: -6.0425 - val_loss: 5.6564 - val_R2: -1.0219\n",
      "Epoch 3/500\n",
      "30/30 [==============================] - 19s 636ms/step - loss: 3.0690 - R2: -0.1683 - val_loss: 2.7992 - val_R2: 0.0150\n",
      "Epoch 4/500\n",
      "30/30 [==============================] - 20s 664ms/step - loss: 2.5827 - R2: 0.0139 - val_loss: 2.8002 - val_R2: 0.0266\n",
      "Epoch 5/500\n",
      "30/30 [==============================] - 19s 627ms/step - loss: 2.5273 - R2: 0.0415 - val_loss: 2.7565 - val_R2: 0.0437\n",
      "Epoch 6/500\n",
      "30/30 [==============================] - 19s 642ms/step - loss: 2.4986 - R2: 0.0487 - val_loss: 2.7212 - val_R2: 0.0487\n",
      "Epoch 7/500\n",
      "30/30 [==============================] - 21s 692ms/step - loss: 2.4678 - R2: 0.0599 - val_loss: 2.7040 - val_R2: 0.0653\n",
      "Epoch 8/500\n",
      "30/30 [==============================] - 21s 706ms/step - loss: 2.4441 - R2: 0.0739 - val_loss: 2.6621 - val_R2: 0.0661\n",
      "Epoch 9/500\n",
      "30/30 [==============================] - 21s 694ms/step - loss: 2.4056 - R2: 0.0849 - val_loss: 2.6376 - val_R2: 0.0478\n",
      "Epoch 10/500\n",
      "30/30 [==============================] - 21s 687ms/step - loss: 2.3693 - R2: 0.0971 - val_loss: 2.5974 - val_R2: 0.0940\n",
      "Epoch 11/500\n",
      "30/30 [==============================] - 22s 727ms/step - loss: 2.3356 - R2: 0.1159 - val_loss: 2.5751 - val_R2: 0.1035\n",
      "Epoch 12/500\n",
      "30/30 [==============================] - 20s 663ms/step - loss: 2.3030 - R2: 0.1306 - val_loss: 2.5232 - val_R2: 0.1332\n",
      "Epoch 13/500\n",
      "30/30 [==============================] - 21s 696ms/step - loss: 2.2613 - R2: 0.1440 - val_loss: 2.4840 - val_R2: 0.1432\n",
      "Epoch 14/500\n",
      "30/30 [==============================] - 19s 615ms/step - loss: 2.2293 - R2: 0.1536 - val_loss: 2.4534 - val_R2: 0.1515\n",
      "Epoch 15/500\n",
      "30/30 [==============================] - 19s 620ms/step - loss: 2.1697 - R2: 0.1843 - val_loss: 2.4166 - val_R2: 0.1512\n",
      "Epoch 16/500\n",
      "30/30 [==============================] - 21s 698ms/step - loss: 2.1254 - R2: 0.1983 - val_loss: 2.3889 - val_R2: 0.1377\n",
      "Epoch 17/500\n",
      "30/30 [==============================] - 18s 616ms/step - loss: 2.1027 - R2: 0.1993 - val_loss: 2.3245 - val_R2: 0.1850\n",
      "Epoch 18/500\n",
      "30/30 [==============================] - 21s 716ms/step - loss: 2.0378 - R2: 0.2144 - val_loss: 2.3295 - val_R2: 0.1777\n",
      "Epoch 19/500\n",
      "30/30 [==============================] - 20s 665ms/step - loss: 2.0090 - R2: 0.2385 - val_loss: 2.2815 - val_R2: 0.1972\n",
      "Epoch 20/500\n",
      "30/30 [==============================] - 18s 611ms/step - loss: 2.0116 - R2: 0.2395 - val_loss: 2.2406 - val_R2: 0.2285\n",
      "Epoch 21/500\n",
      "30/30 [==============================] - 20s 662ms/step - loss: 1.9441 - R2: 0.2583 - val_loss: 2.2276 - val_R2: 0.2395\n",
      "Epoch 22/500\n",
      "30/30 [==============================] - 20s 666ms/step - loss: 1.9297 - R2: 0.2680 - val_loss: 2.2006 - val_R2: 0.2610\n",
      "Epoch 23/500\n",
      "30/30 [==============================] - 21s 721ms/step - loss: 1.8948 - R2: 0.2761 - val_loss: 2.1771 - val_R2: 0.2468\n",
      "Epoch 24/500\n",
      "30/30 [==============================] - 22s 712ms/step - loss: 1.8638 - R2: 0.2719 - val_loss: 2.1601 - val_R2: 0.2515\n",
      "Epoch 25/500\n",
      "30/30 [==============================] - 19s 636ms/step - loss: 1.8574 - R2: 0.2973 - val_loss: 2.1337 - val_R2: 0.2746\n",
      "Epoch 26/500\n",
      "30/30 [==============================] - 19s 637ms/step - loss: 1.8498 - R2: 0.2861 - val_loss: 2.1844 - val_R2: 0.2624\n",
      "Epoch 27/500\n",
      "30/30 [==============================] - 20s 655ms/step - loss: 1.8201 - R2: 0.2959 - val_loss: 2.0898 - val_R2: 0.2759\n",
      "Epoch 28/500\n",
      "30/30 [==============================] - 22s 719ms/step - loss: 1.7910 - R2: 0.3158 - val_loss: 2.0749 - val_R2: 0.2497\n",
      "Epoch 29/500\n",
      "30/30 [==============================] - 17s 565ms/step - loss: 1.7621 - R2: 0.3319 - val_loss: 2.0605 - val_R2: 0.2708\n",
      "Epoch 30/500\n",
      "30/30 [==============================] - 18s 604ms/step - loss: 1.7967 - R2: 0.3012 - val_loss: 2.0329 - val_R2: 0.2872\n",
      "Epoch 31/500\n",
      "30/30 [==============================] - 18s 601ms/step - loss: 1.7512 - R2: 0.3340 - val_loss: 2.0309 - val_R2: 0.2841\n",
      "Epoch 32/500\n",
      "30/30 [==============================] - 21s 693ms/step - loss: 1.7272 - R2: 0.3525 - val_loss: 2.0022 - val_R2: 0.3120\n",
      "Epoch 33/500\n",
      "30/30 [==============================] - 19s 626ms/step - loss: 1.7196 - R2: 0.3505 - val_loss: 2.0834 - val_R2: 0.2073\n",
      "Epoch 34/500\n",
      "30/30 [==============================] - 22s 740ms/step - loss: 1.7003 - R2: 0.3577 - val_loss: 1.9728 - val_R2: 0.2982\n",
      "Epoch 35/500\n",
      "30/30 [==============================] - 21s 683ms/step - loss: 1.6770 - R2: 0.3716 - val_loss: 1.9610 - val_R2: 0.3378\n",
      "Epoch 36/500\n",
      "30/30 [==============================] - 21s 702ms/step - loss: 1.6949 - R2: 0.3355 - val_loss: 1.9519 - val_R2: 0.3131\n",
      "Epoch 37/500\n",
      "30/30 [==============================] - 20s 659ms/step - loss: 1.6653 - R2: 0.3781 - val_loss: 1.9530 - val_R2: 0.2989\n",
      "Epoch 38/500\n",
      "30/30 [==============================] - 19s 646ms/step - loss: 1.6734 - R2: 0.3639 - val_loss: 1.9359 - val_R2: 0.3437\n",
      "Epoch 39/500\n",
      "30/30 [==============================] - 19s 635ms/step - loss: 1.6360 - R2: 0.3936 - val_loss: 1.9027 - val_R2: 0.3622\n",
      "Epoch 40/500\n",
      "30/30 [==============================] - 20s 680ms/step - loss: 1.6363 - R2: 0.3773 - val_loss: 1.9359 - val_R2: 0.3355\n",
      "Epoch 41/500\n",
      "30/30 [==============================] - 20s 654ms/step - loss: 1.6290 - R2: 0.3774 - val_loss: 1.9806 - val_R2: 0.3352\n",
      "Epoch 42/500\n",
      "30/30 [==============================] - 20s 669ms/step - loss: 1.6244 - R2: 0.3915 - val_loss: 1.8708 - val_R2: 0.3452\n",
      "Epoch 43/500\n",
      "30/30 [==============================] - 19s 611ms/step - loss: 1.5909 - R2: 0.3961 - val_loss: 1.8635 - val_R2: 0.3518\n",
      "Epoch 44/500\n",
      "30/30 [==============================] - 19s 631ms/step - loss: 1.5747 - R2: 0.4144 - val_loss: 1.8431 - val_R2: 0.3644\n",
      "Epoch 45/500\n",
      "30/30 [==============================] - 18s 594ms/step - loss: 1.5889 - R2: 0.4066 - val_loss: 1.8431 - val_R2: 0.3821\n",
      "Epoch 46/500\n",
      "30/30 [==============================] - 19s 642ms/step - loss: 1.5779 - R2: 0.3832 - val_loss: 1.8994 - val_R2: 0.3378\n",
      "Epoch 47/500\n",
      "30/30 [==============================] - 19s 631ms/step - loss: 1.5640 - R2: 0.3997 - val_loss: 1.8982 - val_R2: 0.3620\n",
      "Epoch 48/500\n",
      "30/30 [==============================] - 18s 605ms/step - loss: 1.5414 - R2: 0.4168 - val_loss: 1.8028 - val_R2: 0.3704\n",
      "Epoch 49/500\n",
      "30/30 [==============================] - 18s 578ms/step - loss: 1.5254 - R2: 0.4298 - val_loss: 1.7868 - val_R2: 0.3876\n",
      "Epoch 50/500\n",
      "30/30 [==============================] - 19s 624ms/step - loss: 1.5035 - R2: 0.4125 - val_loss: 1.7848 - val_R2: 0.3956\n",
      "Epoch 51/500\n",
      "30/30 [==============================] - 18s 589ms/step - loss: 1.4980 - R2: 0.4368 - val_loss: 1.7637 - val_R2: 0.3704\n",
      "Epoch 52/500\n",
      "30/30 [==============================] - 18s 599ms/step - loss: 1.5043 - R2: 0.4295 - val_loss: 1.7493 - val_R2: 0.4081\n",
      "Epoch 53/500\n",
      "30/30 [==============================] - 19s 645ms/step - loss: 1.4728 - R2: 0.4437 - val_loss: 1.7310 - val_R2: 0.3946\n",
      "Epoch 54/500\n",
      "30/30 [==============================] - 22s 725ms/step - loss: 1.4985 - R2: 0.4271 - val_loss: 1.7500 - val_R2: 0.3870\n",
      "Epoch 55/500\n",
      "30/30 [==============================] - 21s 708ms/step - loss: 1.4552 - R2: 0.4572 - val_loss: 1.7085 - val_R2: 0.4191\n",
      "Epoch 56/500\n",
      "30/30 [==============================] - 19s 618ms/step - loss: 1.4568 - R2: 0.4492 - val_loss: 1.7500 - val_R2: 0.4009\n",
      "Epoch 57/500\n",
      "30/30 [==============================] - 21s 691ms/step - loss: 1.4465 - R2: 0.4465 - val_loss: 1.7264 - val_R2: 0.3841\n",
      "Epoch 58/500\n",
      "30/30 [==============================] - 21s 701ms/step - loss: 1.4330 - R2: 0.4611 - val_loss: 1.7171 - val_R2: 0.3608\n",
      "Epoch 59/500\n",
      "30/30 [==============================] - 20s 660ms/step - loss: 1.4004 - R2: 0.4686 - val_loss: 1.7008 - val_R2: 0.4090\n",
      "Epoch 60/500\n",
      "30/30 [==============================] - 18s 589ms/step - loss: 1.4295 - R2: 0.4576 - val_loss: 1.6801 - val_R2: 0.3976\n",
      "Epoch 61/500\n",
      "30/30 [==============================] - 19s 637ms/step - loss: 1.4321 - R2: 0.4507 - val_loss: 1.6645 - val_R2: 0.4302\n",
      "Epoch 62/500\n",
      "30/30 [==============================] - 19s 645ms/step - loss: 1.3945 - R2: 0.4755 - val_loss: 1.6850 - val_R2: 0.4129\n",
      "Epoch 63/500\n",
      "30/30 [==============================] - 19s 627ms/step - loss: 1.3976 - R2: 0.4695 - val_loss: 1.6509 - val_R2: 0.4389\n",
      "Epoch 64/500\n",
      "30/30 [==============================] - 19s 639ms/step - loss: 1.3694 - R2: 0.4780 - val_loss: 1.6408 - val_R2: 0.4195\n",
      "Epoch 65/500\n",
      "30/30 [==============================] - 21s 692ms/step - loss: 1.3737 - R2: 0.4838 - val_loss: 1.6318 - val_R2: 0.4224\n",
      "Epoch 66/500\n",
      "30/30 [==============================] - 19s 643ms/step - loss: 1.3558 - R2: 0.4809 - val_loss: 1.6229 - val_R2: 0.4333\n",
      "Epoch 67/500\n",
      "30/30 [==============================] - 17s 572ms/step - loss: 1.3389 - R2: 0.4747 - val_loss: 1.6218 - val_R2: 0.4350\n",
      "Epoch 68/500\n",
      "30/30 [==============================] - 21s 687ms/step - loss: 1.3555 - R2: 0.4888 - val_loss: 1.6515 - val_R2: 0.4286\n",
      "Epoch 69/500\n",
      "30/30 [==============================] - 18s 605ms/step - loss: 1.3395 - R2: 0.4874 - val_loss: 1.5981 - val_R2: 0.4563\n",
      "Epoch 70/500\n",
      "30/30 [==============================] - 19s 629ms/step - loss: 1.3229 - R2: 0.4984 - val_loss: 1.5930 - val_R2: 0.4514\n",
      "Epoch 71/500\n",
      "30/30 [==============================] - 19s 652ms/step - loss: 1.3112 - R2: 0.5002 - val_loss: 1.5872 - val_R2: 0.4470\n",
      "Epoch 72/500\n",
      "30/30 [==============================] - 21s 699ms/step - loss: 1.3610 - R2: 0.4826 - val_loss: 1.6431 - val_R2: 0.4126\n",
      "Epoch 73/500\n",
      "30/30 [==============================] - 21s 731ms/step - loss: 1.3034 - R2: 0.4975 - val_loss: 1.5619 - val_R2: 0.4532\n",
      "Epoch 74/500\n",
      "30/30 [==============================] - 19s 635ms/step - loss: 1.2901 - R2: 0.5134 - val_loss: 1.6220 - val_R2: 0.4292\n",
      "Epoch 75/500\n",
      "30/30 [==============================] - 21s 687ms/step - loss: 1.2820 - R2: 0.5227 - val_loss: 1.5980 - val_R2: 0.4562\n",
      "Epoch 76/500\n",
      "30/30 [==============================] - 18s 611ms/step - loss: 1.2841 - R2: 0.5152 - val_loss: 1.5467 - val_R2: 0.4642\n",
      "Epoch 77/500\n",
      "30/30 [==============================] - 16s 545ms/step - loss: 1.2651 - R2: 0.5086 - val_loss: 1.5396 - val_R2: 0.4924\n",
      "Epoch 78/500\n",
      "30/30 [==============================] - 17s 581ms/step - loss: 1.2524 - R2: 0.5252 - val_loss: 1.5517 - val_R2: 0.4416\n",
      "Epoch 79/500\n",
      "30/30 [==============================] - 19s 645ms/step - loss: 1.2498 - R2: 0.5220 - val_loss: 1.5879 - val_R2: 0.4529\n",
      "Epoch 80/500\n",
      "30/30 [==============================] - 20s 654ms/step - loss: 1.2356 - R2: 0.5320 - val_loss: 1.5052 - val_R2: 0.4667\n",
      "Epoch 81/500\n",
      "30/30 [==============================] - 21s 696ms/step - loss: 1.2266 - R2: 0.5273 - val_loss: 1.5024 - val_R2: 0.4596\n",
      "Epoch 82/500\n",
      "30/30 [==============================] - 20s 667ms/step - loss: 1.2217 - R2: 0.5317 - val_loss: 1.4920 - val_R2: 0.4673\n",
      "Epoch 83/500\n",
      "30/30 [==============================] - 23s 776ms/step - loss: 1.2303 - R2: 0.5353 - val_loss: 1.4952 - val_R2: 0.4653\n",
      "Epoch 84/500\n",
      "30/30 [==============================] - 23s 779ms/step - loss: 1.2163 - R2: 0.5321 - val_loss: 1.5016 - val_R2: 0.4585\n",
      "Epoch 85/500\n",
      "30/30 [==============================] - 20s 662ms/step - loss: 1.2043 - R2: 0.5439 - val_loss: 1.4803 - val_R2: 0.4739\n",
      "Epoch 86/500\n",
      "30/30 [==============================] - 19s 627ms/step - loss: 1.1979 - R2: 0.5454 - val_loss: 1.5025 - val_R2: 0.4922\n",
      "Epoch 87/500\n",
      "30/30 [==============================] - 20s 674ms/step - loss: 1.1853 - R2: 0.5500 - val_loss: 1.5030 - val_R2: 0.4774\n",
      "Epoch 88/500\n",
      "30/30 [==============================] - 34s 1s/step - loss: 1.1523 - R2: 0.5702 - val_loss: 1.4542 - val_R2: 0.5206\n",
      "Epoch 89/500\n",
      "30/30 [==============================] - 25s 821ms/step - loss: 1.1798 - R2: 0.5537 - val_loss: 1.4562 - val_R2: 0.4680\n",
      "Epoch 90/500\n",
      "30/30 [==============================] - 31s 1s/step - loss: 1.2041 - R2: 0.5459 - val_loss: 1.5657 - val_R2: 0.4492\n",
      "Epoch 91/500\n",
      "30/30 [==============================] - 33s 1s/step - loss: 1.1754 - R2: 0.5548 - val_loss: 1.4553 - val_R2: 0.4984\n",
      "Epoch 92/500\n",
      "30/30 [==============================] - 29s 963ms/step - loss: 1.1420 - R2: 0.5728 - val_loss: 1.4317 - val_R2: 0.5105\n",
      "Epoch 93/500\n",
      "30/30 [==============================] - 33s 1s/step - loss: 1.1522 - R2: 0.5680 - val_loss: 1.4366 - val_R2: 0.5016\n",
      "Epoch 94/500\n",
      "30/30 [==============================] - 26s 873ms/step - loss: 1.1432 - R2: 0.5760 - val_loss: 1.4245 - val_R2: 0.5008\n",
      "Epoch 95/500\n",
      "30/30 [==============================] - 19s 637ms/step - loss: 1.1273 - R2: 0.5657 - val_loss: 1.5133 - val_R2: 0.4776\n",
      "Epoch 96/500\n",
      "30/30 [==============================] - 23s 750ms/step - loss: 1.1267 - R2: 0.5722 - val_loss: 1.4215 - val_R2: 0.4911\n",
      "Epoch 97/500\n",
      "30/30 [==============================] - 18s 608ms/step - loss: 1.1213 - R2: 0.5735 - val_loss: 1.4141 - val_R2: 0.5043\n",
      "Epoch 98/500\n",
      "30/30 [==============================] - 19s 641ms/step - loss: 1.1148 - R2: 0.5799 - val_loss: 1.4080 - val_R2: 0.5024\n",
      "Epoch 99/500\n",
      "30/30 [==============================] - 20s 681ms/step - loss: 1.1236 - R2: 0.5525 - val_loss: 1.4459 - val_R2: 0.4693\n",
      "Epoch 100/500\n",
      "30/30 [==============================] - 21s 692ms/step - loss: 1.1218 - R2: 0.5779 - val_loss: 1.3881 - val_R2: 0.5210\n",
      "Epoch 101/500\n",
      "30/30 [==============================] - 21s 687ms/step - loss: 1.0875 - R2: 0.5941 - val_loss: 1.4136 - val_R2: 0.5203\n",
      "Epoch 102/500\n",
      "30/30 [==============================] - 19s 609ms/step - loss: 1.1012 - R2: 0.5770 - val_loss: 1.3800 - val_R2: 0.5292\n",
      "Epoch 103/500\n",
      "30/30 [==============================] - 19s 638ms/step - loss: 1.0840 - R2: 0.5918 - val_loss: 1.3818 - val_R2: 0.5103\n",
      "Epoch 104/500\n",
      "30/30 [==============================] - 20s 662ms/step - loss: 1.0820 - R2: 0.5939 - val_loss: 1.3687 - val_R2: 0.5250\n",
      "Epoch 105/500\n",
      "30/30 [==============================] - 20s 652ms/step - loss: 1.0682 - R2: 0.5881 - val_loss: 1.4183 - val_R2: 0.5102\n",
      "Epoch 106/500\n",
      "30/30 [==============================] - 18s 606ms/step - loss: 1.0638 - R2: 0.6023 - val_loss: 1.3614 - val_R2: 0.5473\n",
      "Epoch 107/500\n",
      "30/30 [==============================] - 19s 637ms/step - loss: 1.0667 - R2: 0.5908 - val_loss: 1.3652 - val_R2: 0.5296\n",
      "Epoch 108/500\n",
      "30/30 [==============================] - 18s 598ms/step - loss: 1.0609 - R2: 0.5925 - val_loss: 1.3735 - val_R2: 0.5370\n",
      "Epoch 109/500\n",
      "30/30 [==============================] - 19s 621ms/step - loss: 1.0701 - R2: 0.5956 - val_loss: 1.3905 - val_R2: 0.4760\n",
      "Epoch 110/500\n",
      "30/30 [==============================] - 21s 714ms/step - loss: 1.0449 - R2: 0.6044 - val_loss: 1.4350 - val_R2: 0.5211\n",
      "Epoch 111/500\n",
      "30/30 [==============================] - 20s 654ms/step - loss: 1.0230 - R2: 0.6212 - val_loss: 1.3413 - val_R2: 0.5343\n",
      "Epoch 112/500\n",
      "30/30 [==============================] - 20s 673ms/step - loss: 1.0267 - R2: 0.6142 - val_loss: 1.3480 - val_R2: 0.5244\n",
      "Epoch 113/500\n",
      "30/30 [==============================] - 20s 662ms/step - loss: 1.0331 - R2: 0.6046 - val_loss: 1.3546 - val_R2: 0.5443\n",
      "Epoch 114/500\n",
      "30/30 [==============================] - 19s 627ms/step - loss: 1.0443 - R2: 0.6123 - val_loss: 1.3642 - val_R2: 0.5099\n",
      "Epoch 115/500\n",
      "30/30 [==============================] - 18s 603ms/step - loss: 1.0102 - R2: 0.6148 - val_loss: 1.3320 - val_R2: 0.5433\n",
      "Epoch 116/500\n",
      "30/30 [==============================] - 19s 636ms/step - loss: 1.0079 - R2: 0.6185 - val_loss: 1.3376 - val_R2: 0.5044\n",
      "Epoch 117/500\n",
      "30/30 [==============================] - 17s 548ms/step - loss: 0.9883 - R2: 0.6185 - val_loss: 1.3491 - val_R2: 0.5120\n",
      "Epoch 118/500\n",
      "30/30 [==============================] - 19s 622ms/step - loss: 0.9989 - R2: 0.6144 - val_loss: 1.3241 - val_R2: 0.5338\n",
      "Epoch 119/500\n",
      "30/30 [==============================] - 18s 594ms/step - loss: 0.9633 - R2: 0.6345 - val_loss: 1.3514 - val_R2: 0.5300\n",
      "Epoch 120/500\n",
      "30/30 [==============================] - 17s 550ms/step - loss: 0.9735 - R2: 0.6322 - val_loss: 1.3440 - val_R2: 0.5525\n",
      "Epoch 121/500\n",
      "30/30 [==============================] - 17s 577ms/step - loss: 0.9849 - R2: 0.6287 - val_loss: 1.3915 - val_R2: 0.5088\n",
      "Epoch 122/500\n",
      "30/30 [==============================] - 18s 593ms/step - loss: 1.0023 - R2: 0.6166 - val_loss: 1.2942 - val_R2: 0.5549\n",
      "Epoch 123/500\n",
      "30/30 [==============================] - 19s 618ms/step - loss: 0.9863 - R2: 0.6277 - val_loss: 1.2849 - val_R2: 0.5449\n",
      "Epoch 124/500\n",
      "30/30 [==============================] - 18s 584ms/step - loss: 1.0101 - R2: 0.6137 - val_loss: 1.2993 - val_R2: 0.5255\n",
      "Epoch 125/500\n",
      "30/30 [==============================] - 19s 620ms/step - loss: 0.9568 - R2: 0.6418 - val_loss: 1.3317 - val_R2: 0.5197\n",
      "Epoch 126/500\n",
      "30/30 [==============================] - 21s 733ms/step - loss: 0.9997 - R2: 0.6212 - val_loss: 1.2783 - val_R2: 0.5440\n",
      "Epoch 127/500\n",
      "30/30 [==============================] - 18s 606ms/step - loss: 0.9543 - R2: 0.6264 - val_loss: 1.2815 - val_R2: 0.5611\n",
      "Epoch 128/500\n",
      "30/30 [==============================] - 20s 652ms/step - loss: 0.9638 - R2: 0.6287 - val_loss: 1.3054 - val_R2: 0.5300\n",
      "Epoch 129/500\n",
      "30/30 [==============================] - 23s 748ms/step - loss: 0.9713 - R2: 0.6232 - val_loss: 1.3643 - val_R2: 0.5326\n",
      "Epoch 130/500\n",
      "30/30 [==============================] - 18s 614ms/step - loss: 0.9607 - R2: 0.6382 - val_loss: 1.2894 - val_R2: 0.5409\n",
      "Epoch 131/500\n",
      "30/30 [==============================] - 18s 592ms/step - loss: 0.9590 - R2: 0.6336 - val_loss: 1.3077 - val_R2: 0.5639\n",
      "Epoch 132/500\n",
      "30/30 [==============================] - 19s 637ms/step - loss: 0.9268 - R2: 0.6445 - val_loss: 1.2925 - val_R2: 0.5617\n",
      "Epoch 133/500\n",
      "30/30 [==============================] - 18s 597ms/step - loss: 0.9535 - R2: 0.5948 - val_loss: 1.4545 - val_R2: 0.4985\n",
      "Epoch 134/500\n",
      "30/30 [==============================] - 20s 655ms/step - loss: 0.9387 - R2: 0.6138 - val_loss: 1.2954 - val_R2: 0.5377\n",
      "Epoch 135/500\n",
      "30/30 [==============================] - 19s 640ms/step - loss: 0.9357 - R2: 0.6502 - val_loss: 1.2562 - val_R2: 0.5616\n",
      "Epoch 136/500\n",
      "30/30 [==============================] - 20s 662ms/step - loss: 0.9167 - R2: 0.6396 - val_loss: 1.2713 - val_R2: 0.5493\n",
      "Epoch 137/500\n",
      "30/30 [==============================] - 19s 633ms/step - loss: 0.9639 - R2: 0.6365 - val_loss: 1.2955 - val_R2: 0.5536\n",
      "Epoch 138/500\n",
      "30/30 [==============================] - 20s 660ms/step - loss: 0.9216 - R2: 0.6547 - val_loss: 1.2423 - val_R2: 0.5467\n",
      "Epoch 139/500\n",
      "30/30 [==============================] - 18s 583ms/step - loss: 0.9348 - R2: 0.6427 - val_loss: 1.2440 - val_R2: 0.5823\n",
      "Epoch 140/500\n",
      "30/30 [==============================] - 19s 609ms/step - loss: 0.8899 - R2: 0.6684 - val_loss: 1.2714 - val_R2: 0.5355\n",
      "Epoch 141/500\n",
      "30/30 [==============================] - 17s 579ms/step - loss: 0.8913 - R2: 0.6665 - val_loss: 1.2952 - val_R2: 0.5517\n",
      "Epoch 142/500\n",
      "30/30 [==============================] - 20s 664ms/step - loss: 0.9164 - R2: 0.6572 - val_loss: 1.2325 - val_R2: 0.5695\n",
      "Epoch 143/500\n",
      "30/30 [==============================] - 17s 576ms/step - loss: 0.8950 - R2: 0.6478 - val_loss: 1.2240 - val_R2: 0.5935\n",
      "Epoch 144/500\n",
      "30/30 [==============================] - 18s 617ms/step - loss: 0.8987 - R2: 0.6489 - val_loss: 1.2432 - val_R2: 0.5196\n",
      "Epoch 145/500\n",
      "30/30 [==============================] - 18s 581ms/step - loss: 0.8896 - R2: 0.6669 - val_loss: 1.2320 - val_R2: 0.5871\n",
      "Epoch 146/500\n",
      "30/30 [==============================] - 18s 588ms/step - loss: 0.8739 - R2: 0.6691 - val_loss: 1.2262 - val_R2: 0.5573\n",
      "Epoch 147/500\n",
      "30/30 [==============================] - 18s 612ms/step - loss: 0.9079 - R2: 0.6601 - val_loss: 1.2189 - val_R2: 0.5637\n",
      "Epoch 148/500\n",
      "30/30 [==============================] - 17s 571ms/step - loss: 0.8978 - R2: 0.6599 - val_loss: 1.2295 - val_R2: 0.5762\n",
      "Epoch 149/500\n",
      "30/30 [==============================] - 19s 623ms/step - loss: 0.9306 - R2: 0.6432 - val_loss: 1.2390 - val_R2: 0.5484\n",
      "Epoch 150/500\n",
      "30/30 [==============================] - 17s 572ms/step - loss: 0.8994 - R2: 0.6528 - val_loss: 1.2127 - val_R2: 0.5676\n",
      "Epoch 151/500\n",
      "30/30 [==============================] - 17s 582ms/step - loss: 0.8718 - R2: 0.6541 - val_loss: 1.2068 - val_R2: 0.5673\n",
      "Epoch 152/500\n",
      "30/30 [==============================] - 19s 642ms/step - loss: 0.8485 - R2: 0.6560 - val_loss: 1.3159 - val_R2: 0.5318\n",
      "Epoch 153/500\n",
      "30/30 [==============================] - 21s 695ms/step - loss: 0.8941 - R2: 0.6666 - val_loss: 1.1953 - val_R2: 0.6023\n",
      "Epoch 154/500\n",
      "30/30 [==============================] - 20s 666ms/step - loss: 0.8561 - R2: 0.6735 - val_loss: 1.1962 - val_R2: 0.5959\n",
      "Epoch 155/500\n",
      "30/30 [==============================] - 19s 624ms/step - loss: 0.8538 - R2: 0.6689 - val_loss: 1.1945 - val_R2: 0.5826\n",
      "Epoch 156/500\n",
      "30/30 [==============================] - 19s 634ms/step - loss: 0.9039 - R2: 0.6556 - val_loss: 1.2035 - val_R2: 0.5184\n",
      "Epoch 157/500\n",
      "30/30 [==============================] - 20s 650ms/step - loss: 0.8426 - R2: 0.6750 - val_loss: 1.2034 - val_R2: 0.5578\n",
      "Epoch 158/500\n",
      "30/30 [==============================] - 18s 598ms/step - loss: 0.8303 - R2: 0.6855 - val_loss: 1.2276 - val_R2: 0.5675\n",
      "Epoch 159/500\n",
      "30/30 [==============================] - 18s 612ms/step - loss: 0.8306 - R2: 0.6898 - val_loss: 1.1911 - val_R2: 0.5934\n",
      "Epoch 160/500\n",
      "30/30 [==============================] - 21s 693ms/step - loss: 0.8290 - R2: 0.6903 - val_loss: 1.1937 - val_R2: 0.5709\n",
      "Epoch 161/500\n",
      "30/30 [==============================] - 20s 657ms/step - loss: 0.8239 - R2: 0.6850 - val_loss: 1.2587 - val_R2: 0.5625\n",
      "Epoch 162/500\n",
      "30/30 [==============================] - 23s 774ms/step - loss: 0.8540 - R2: 0.6779 - val_loss: 1.2031 - val_R2: 0.5868\n",
      "Epoch 163/500\n",
      "30/30 [==============================] - 19s 637ms/step - loss: 0.8514 - R2: 0.6798 - val_loss: 1.1782 - val_R2: 0.5509\n",
      "Epoch 164/500\n",
      "30/30 [==============================] - 20s 659ms/step - loss: 0.8259 - R2: 0.6911 - val_loss: 1.2004 - val_R2: 0.5903\n",
      "Epoch 165/500\n",
      "30/30 [==============================] - 22s 719ms/step - loss: 0.8232 - R2: 0.6932 - val_loss: 1.1950 - val_R2: 0.6076\n",
      "Epoch 166/500\n",
      "30/30 [==============================] - 20s 654ms/step - loss: 0.8204 - R2: 0.6818 - val_loss: 1.2604 - val_R2: 0.5526\n",
      "Epoch 167/500\n",
      "30/30 [==============================] - 19s 633ms/step - loss: 0.7854 - R2: 0.6989 - val_loss: 1.2041 - val_R2: 0.5858\n",
      "Epoch 168/500\n",
      "30/30 [==============================] - 20s 674ms/step - loss: 0.8046 - R2: 0.6803 - val_loss: 1.2218 - val_R2: 0.5848\n",
      "Epoch 169/500\n",
      "30/30 [==============================] - 20s 657ms/step - loss: 0.8483 - R2: 0.6781 - val_loss: 1.1867 - val_R2: 0.5951\n",
      "Epoch 170/500\n",
      "30/30 [==============================] - 20s 659ms/step - loss: 0.7974 - R2: 0.6961 - val_loss: 1.1823 - val_R2: 0.5938\n",
      "Epoch 171/500\n",
      "30/30 [==============================] - 19s 623ms/step - loss: 0.7950 - R2: 0.6988 - val_loss: 1.1883 - val_R2: 0.5401\n",
      "Epoch 172/500\n",
      "30/30 [==============================] - 18s 608ms/step - loss: 0.7981 - R2: 0.6934 - val_loss: 1.2147 - val_R2: 0.5738\n",
      "Epoch 173/500\n",
      "30/30 [==============================] - 21s 705ms/step - loss: 0.8126 - R2: 0.6812 - val_loss: 1.2087 - val_R2: 0.5591\n"
     ]
    }
   ],
   "source": [
    "model_name = \"modelTEextCNN\"\n",
    "tensorboard.log_dir = f\"logs/fit/model-{model_name}-{dt.now().strftime('%Y%m%d_%H%M')}\"\n",
    "\n",
    "EPOCHS = 500  # La idea es que se detenga por el earlyStopping\n",
    "\n",
    "history = model.fit(\n",
    "    dgen_train, \n",
    "    epochs=EPOCHS, \n",
    "    validation_data=dgen_val,\n",
    "    callbacks=[\n",
    "        # mcp,\n",
    "        early_stopping,\n",
    "        tensorboard\n",
    "    ]\n",
    ")"
   ]
  },
  {
   "cell_type": "code",
   "execution_count": 182,
   "id": "ae9c6dbc-6e07-47b7-a24c-a07c6e0ecaf4",
   "metadata": {},
   "outputs": [
    {
     "name": "stdout",
     "output_type": "stream",
     "text": [
      "37/37 [==============================] - 2s 47ms/step\n",
      "R2: 0.545; ref value: 0.498\n"
     ]
    }
   ],
   "source": [
    "# Score\n",
    "\n",
    "X_test_eval = []\n",
    "y_t_eval = []\n",
    "\n",
    "for X_t, y_t in dgen_test:\n",
    "    X_test_eval = X_test_eval + [list(t) for t in X_t]\n",
    "    y_t_eval = y_t_eval + list(y_t)\n",
    "X_test_eval = np.array(X_test_eval)\n",
    "y_test = np.array(y_t_eval)\n",
    "\n",
    "X_test_eval.shape, y_test.shape\n",
    "y_pred = model.predict(X_test_eval)\n",
    "\n",
    "print(f\"R2: {calculate_r2(y_test, y_pred, 3)}; ref value: 0.498\")"
   ]
  },
  {
   "cell_type": "markdown",
   "id": "7f1a6260-e31f-4e5e-a923-ce67bf31152f",
   "metadata": {},
   "source": [
    "# Evaluación"
   ]
  },
  {
   "cell_type": "code",
   "execution_count": 183,
   "id": "7dd9d7e6-2789-459e-b9dd-593e10847fc4",
   "metadata": {},
   "outputs": [
    {
     "data": {
      "text/plain": [
       "<function matplotlib.pyplot.show(close=None, block=None)>"
      ]
     },
     "execution_count": 183,
     "metadata": {},
     "output_type": "execute_result"
    },
    {
     "data": {
      "image/png": "[encoded data removed]",
      "text/plain": [
       "<Figure size 500x500 with 1 Axes>"
      ]
     },
     "metadata": {},
     "output_type": "display_data"
    }
   ],
   "source": [
    "import seaborn as sns\n",
    "import matplotlib.pyplot as plt\n",
    "\n",
    "sns.set(color_codes=True)\n",
    "sns.set_style(\"white\")\n",
    "\n",
    "ax = sns.regplot(x=y_test, y=y_pred, scatter_kws={'alpha':0.4})\n",
    "ax.set_xlabel('Experimental pIC50', fontsize='large', fontweight='bold')\n",
    "ax.set_ylabel('Predicted pIC50', fontsize='large', fontweight='bold')\n",
    "ax.set_xlim(0, 12)\n",
    "ax.set_ylim(0, 12)\n",
    "ax.figure.set_size_inches(5, 5)\n",
    "plt.show"
   ]
  },
  {
   "cell_type": "code",
   "execution_count": null,
   "id": "3f9f2cc6-8687-4676-b1aa-437914379f12",
   "metadata": {},
   "outputs": [],
   "source": []
  }
 ],
 "metadata": {
  "kernelspec": {
   "display_name": "bioinformatics_final_project",
   "language": "python",
   "name": "bioinformatics_final_project"
  },
  "language_info": {
   "codemirror_mode": {
    "name": "ipython",
    "version": 3
   },
   "file_extension": ".py",
   "mimetype": "text/x-python",
   "name": "python",
   "nbconvert_exporter": "python",
   "pygments_lexer": "ipython3",
   "version": "3.9.16"
  }
 },
 "nbformat": 4,
 "nbformat_minor": 5
}
