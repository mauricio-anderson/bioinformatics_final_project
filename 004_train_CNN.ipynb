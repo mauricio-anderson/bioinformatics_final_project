{
 "cells": [
  {
   "cell_type": "code",
   "execution_count": 1,
   "id": "3ac13f6c-a061-4c24-a5fc-081ea6283a62",
   "metadata": {},
   "outputs": [],
   "source": [
    "%load_ext autoreload\n",
    "%autoreload 2"
   ]
  },
  {
   "cell_type": "markdown",
   "id": "9dab7de8-eb23-47d7-a771-28a2397d0a54",
   "metadata": {},
   "source": [
    "# Modelo CNN con generador, embedings de smiles y data-augmentation"
   ]
  },
  {
   "cell_type": "code",
   "execution_count": 2,
   "id": "21bee0a3-79a7-43b2-9ac2-15cad5630e22",
   "metadata": {
    "tags": []
   },
   "outputs": [
    {
     "name": "stderr",
     "output_type": "stream",
     "text": [
      "2023-02-21 14:28:00.389737: I tensorflow/core/platform/cpu_feature_guard.cc:193] This TensorFlow binary is optimized with oneAPI Deep Neural Network Library (oneDNN) to use the following CPU instructions in performance-critical operations:  AVX2 AVX512F AVX512_VNNI FMA\n",
      "To enable them in other operations, rebuild TensorFlow with the appropriate compiler flags.\n"
     ]
    }
   ],
   "source": [
    "import pandas as pd\n",
    "import numpy as np\n",
    "from datetime import datetime as dt\n",
    "from datagen import smiles_dict, smiles_to_seq"
   ]
  },
  {
   "cell_type": "markdown",
   "id": "20aa799f-b75c-4d23-869b-fea6d041a6e9",
   "metadata": {
    "tags": []
   },
   "source": [
    "### smiles_dict"
   ]
  },
  {
   "cell_type": "markdown",
   "id": "b9c9312c-4232-414c-b0ff-1e6fb6dba1a6",
   "metadata": {},
   "source": [
    "smiles_dict nos da un tokenizador para simplificar el problema. Puede ver como se construyó en la notebook **deep_chem**.\n",
    "Si al momento de correr el modelo con este diccionario encuentra problemas de key_error, puede agregar los faltantes al diccionario\n",
    "\n",
    "Mirar dentro de **datagen.py** como se usa este diccionario con la función **smiles_to_seq** para tokenizar. El código es muy sencillo"
   ]
  },
  {
   "cell_type": "code",
   "execution_count": 3,
   "id": "e29ef48f-4b67-42a4-83af-e7d0bb980c4b",
   "metadata": {},
   "outputs": [
    {
     "name": "stdout",
     "output_type": "stream",
     "text": [
      "42 / {'#': 1, '(': 2, ')': 3, '+': 4, '-': 5, '/': 6, '1': 7, '2': 8, '3': 9, '4': 10, '5': 11, '6': 12, '7': 13, '8': 14, '=': 15, 'C': 16, 'F': 17, 'H': 18, 'I': 19, 'N': 20, 'O': 21, 'P': 22, 'S': 23, '[': 24, '\\\\': 25, ']': 26, '_': 27, 'c': 28, 'Cl': 29, 'Br': 30, 'n': 31, 'o': 32, 's': 33, '@': 34, '.': 35, 'a': 36, 'B': 37, 'e': 38, 'i': 39, '9': 40, '10': 41, '11': 42}\n"
     ]
    }
   ],
   "source": [
    "print(len(smiles_dict), smiles_dict, sep=\" / \")"
   ]
  },
  {
   "cell_type": "markdown",
   "id": "b103a4e0-038d-406b-aab8-5c9452ede04e",
   "metadata": {},
   "source": [
    "# Carga de los datos"
   ]
  },
  {
   "cell_type": "code",
   "execution_count": 4,
   "id": "353a2d75-f0f4-4563-9842-c68d77118161",
   "metadata": {},
   "outputs": [],
   "source": [
    "df = pd.read_csv(\n",
    "    'data/acetylcholinesterase_02_bioactivity_data_preprocessed.csv'\n",
    ")"
   ]
  },
  {
   "cell_type": "code",
   "execution_count": 5,
   "id": "4e7fcdcb-ad53-4ebf-bc17-a241c79269da",
   "metadata": {},
   "outputs": [],
   "source": [
    "max_len_idx = df['canonical_smiles'].apply(len).argmax()\n",
    "min_len_idx = df['canonical_smiles'].apply(len).argmin()\n",
    "max_sequence_len = len(df['canonical_smiles'].iloc[max_len_idx]) + 20"
   ]
  },
  {
   "cell_type": "code",
   "execution_count": 6,
   "id": "d1554fa5-d9ee-456c-be20-80571e319fc6",
   "metadata": {},
   "outputs": [
    {
     "data": {
      "text/html": [
       "<div>\n",
       "<style scoped>\n",
       "    .dataframe tbody tr th:only-of-type {\n",
       "        vertical-align: middle;\n",
       "    }\n",
       "\n",
       "    .dataframe tbody tr th {\n",
       "        vertical-align: top;\n",
       "    }\n",
       "\n",
       "    .dataframe thead th {\n",
       "        text-align: right;\n",
       "    }\n",
       "</style>\n",
       "<table border=\"1\" class=\"dataframe\">\n",
       "  <thead>\n",
       "    <tr style=\"text-align: right;\">\n",
       "      <th></th>\n",
       "      <th>molecule_chembl_id</th>\n",
       "      <th>canonical_smiles</th>\n",
       "      <th>standard_value</th>\n",
       "      <th>standard_value_norm</th>\n",
       "      <th>pIC50</th>\n",
       "    </tr>\n",
       "  </thead>\n",
       "  <tbody>\n",
       "    <tr>\n",
       "      <th>0</th>\n",
       "      <td>CHEMBL133897</td>\n",
       "      <td>CCOc1nn(-c2cccc(OCc3ccccc3)c2)c(=O)o1</td>\n",
       "      <td>750.0</td>\n",
       "      <td>750.0</td>\n",
       "      <td>6.124939</td>\n",
       "    </tr>\n",
       "    <tr>\n",
       "      <th>1</th>\n",
       "      <td>CHEMBL336398</td>\n",
       "      <td>O=C(N1CCCCC1)n1nc(-c2ccc(Cl)cc2)nc1SCC1CC1</td>\n",
       "      <td>100.0</td>\n",
       "      <td>100.0</td>\n",
       "      <td>7.000000</td>\n",
       "    </tr>\n",
       "    <tr>\n",
       "      <th>2</th>\n",
       "      <td>CHEMBL131588</td>\n",
       "      <td>CN(C(=O)n1nc(-c2ccc(Cl)cc2)nc1SCC(F)(F)F)c1ccccc1</td>\n",
       "      <td>50000.0</td>\n",
       "      <td>50000.0</td>\n",
       "      <td>4.301030</td>\n",
       "    </tr>\n",
       "    <tr>\n",
       "      <th>3</th>\n",
       "      <td>CHEMBL130628</td>\n",
       "      <td>O=C(N1CCCCC1)n1nc(-c2ccc(Cl)cc2)nc1SCC(F)(F)F</td>\n",
       "      <td>300.0</td>\n",
       "      <td>300.0</td>\n",
       "      <td>6.522879</td>\n",
       "    </tr>\n",
       "    <tr>\n",
       "      <th>4</th>\n",
       "      <td>CHEMBL130478</td>\n",
       "      <td>CSc1nc(-c2ccc(OC(F)(F)F)cc2)nn1C(=O)N(C)C</td>\n",
       "      <td>800.0</td>\n",
       "      <td>800.0</td>\n",
       "      <td>6.096910</td>\n",
       "    </tr>\n",
       "  </tbody>\n",
       "</table>\n",
       "</div>"
      ],
      "text/plain": [
       "  molecule_chembl_id                                   canonical_smiles  \\\n",
       "0       CHEMBL133897              CCOc1nn(-c2cccc(OCc3ccccc3)c2)c(=O)o1   \n",
       "1       CHEMBL336398         O=C(N1CCCCC1)n1nc(-c2ccc(Cl)cc2)nc1SCC1CC1   \n",
       "2       CHEMBL131588  CN(C(=O)n1nc(-c2ccc(Cl)cc2)nc1SCC(F)(F)F)c1ccccc1   \n",
       "3       CHEMBL130628      O=C(N1CCCCC1)n1nc(-c2ccc(Cl)cc2)nc1SCC(F)(F)F   \n",
       "4       CHEMBL130478          CSc1nc(-c2ccc(OC(F)(F)F)cc2)nn1C(=O)N(C)C   \n",
       "\n",
       "   standard_value  standard_value_norm     pIC50  \n",
       "0           750.0                750.0  6.124939  \n",
       "1           100.0                100.0  7.000000  \n",
       "2         50000.0              50000.0  4.301030  \n",
       "3           300.0                300.0  6.522879  \n",
       "4           800.0                800.0  6.096910  "
      ]
     },
     "execution_count": 6,
     "metadata": {},
     "output_type": "execute_result"
    }
   ],
   "source": [
    "df.head()"
   ]
  },
  {
   "cell_type": "code",
   "execution_count": 7,
   "id": "9675f7e8-a8e6-44ff-b1c5-b229cbbeb2e9",
   "metadata": {},
   "outputs": [],
   "source": [
    "X = df['canonical_smiles'].values\n",
    "y = df['pIC50'].values"
   ]
  },
  {
   "cell_type": "markdown",
   "id": "dd87900d-dca2-4f0e-a5c2-58fef4266a67",
   "metadata": {},
   "source": [
    "# Data augmentation:\n",
    "\n",
    "https://arxiv.org/pdf/1703.07076.pdf\n",
    "\n",
    "https://github.com/EBjerrum/molvecgen\n",
    "\n",
    "https://github.com/Ebjerrum/SMILES-enumeration"
   ]
  },
  {
   "cell_type": "markdown",
   "id": "605fb205-e7e7-45fb-99bd-2e6f490977a8",
   "metadata": {},
   "source": [
    "En la publicación de arriba se describe una técnica de aumentación de datos para los smiles. Leerla si es de su interes (Opcional)\n",
    "\n",
    "En el módulo **dataug.py**, tomando como referencia los repositorios arriba citados se implementó la aumentación de datos"
   ]
  },
  {
   "cell_type": "code",
   "execution_count": 8,
   "id": "d4733af9-9c49-4c2f-bb1d-dc7f180cc66f",
   "metadata": {},
   "outputs": [
    {
     "name": "stdout",
     "output_type": "stream",
     "text": [
      "n1(-c2cc(OCc3ccccc3)ccc2)c(=O)oc(OCC)n1\n",
      "c1(COc2cc(-n3c(=O)oc(OCC)n3)ccc2)ccccc1\n",
      "CCOc1nn(-c2cc(OCc3ccccc3)ccc2)c(=O)o1\n",
      "n1c(OCC)oc(=O)n1-c1cc(OCc2ccccc2)ccc1\n",
      "c1(-n2c(=O)oc(OCC)n2)cc(OCc2ccccc2)ccc1\n",
      "CCOc1nn(-c2cccc(OCc3ccccc3)c2)c(=O)o1\n",
      "CCOc1nn(-c2cccc(OCc3ccccc3)c2)c(=O)o1\n",
      "n1(-c2cccc(OCc3ccccc3)c2)nc(OCC)oc1=O\n",
      "n1c(OCC)oc(=O)n1-c1cc(OCc2ccccc2)ccc1\n",
      "c1(-n2nc(OCC)oc2=O)cccc(OCc2ccccc2)c1\n"
     ]
    }
   ],
   "source": [
    "from dataaug import SmilesEnumerator\n",
    "\n",
    "sme = SmilesEnumerator()\n",
    "\n",
    "for i in range(10):\n",
    "    print(sme.randomize_smiles('CCOc1nn(-c2cccc(OCc3ccccc3)c2)c(=O)o1'))\n",
    "    "
   ]
  },
  {
   "cell_type": "markdown",
   "id": "7a1923d3-1df0-4df1-a43c-ec30eff6fe4d",
   "metadata": {},
   "source": [
    "# DataGenerator"
   ]
  },
  {
   "cell_type": "markdown",
   "id": "fc6a3c67-9f44-4052-9e93-9e274f08c1b5",
   "metadata": {},
   "source": [
    "Construir un generador al que se le pase al instanciarlo:\n",
    "- X: smiles (formula química)\n",
    "- y: pIC50\n",
    "- batch_size\n",
    "- max_sequence_len (int): La máxima longitud de las secuencias (para hacer el padding)\n",
    "- data_augmentation (boolean): si quiero hacer o no data-augmentation. \n",
    "- shuffle (boolean)\n",
    "\n",
    "Guardarlo en el módulo **datagen.py** con el nombre de la clase **DataGenerator**\n",
    "\n",
    "Notar que el módulo **datagen.py** ya tiene una estructura para completar"
   ]
  },
  {
   "cell_type": "markdown",
   "id": "f602f3e4-24aa-41ee-9f83-89ec3acc96f1",
   "metadata": {},
   "source": [
    "### Importamos el módulo y lo probamos"
   ]
  },
  {
   "cell_type": "code",
   "execution_count": 9,
   "id": "413bce05-2685-4c84-8a43-c3dd8ed74e11",
   "metadata": {},
   "outputs": [],
   "source": [
    "from datagen import DataGenerator"
   ]
  },
  {
   "cell_type": "code",
   "execution_count": 10,
   "id": "52aa520a-a84b-4d8b-a22e-6b4a5cc7e65a",
   "metadata": {},
   "outputs": [],
   "source": [
    "dgen = DataGenerator(X, y, max_sequence_len, batch_size=16)"
   ]
  },
  {
   "cell_type": "code",
   "execution_count": 11,
   "id": "b3212e31-dd2c-4ebc-b9a0-78ed4bb5d78d",
   "metadata": {},
   "outputs": [
    {
     "data": {
      "text/plain": [
       "5824"
      ]
     },
     "execution_count": 11,
     "metadata": {},
     "output_type": "execute_result"
    }
   ],
   "source": [
    "len(dgen) * dgen.batch_size"
   ]
  },
  {
   "cell_type": "code",
   "execution_count": 12,
   "id": "133033ed-a3b1-4572-aaaf-f4cb2a055724",
   "metadata": {},
   "outputs": [
    {
     "name": "stdout",
     "output_type": "stream",
     "text": [
      "363\r"
     ]
    }
   ],
   "source": [
    "for i, (X_b, y_b) in enumerate(dgen):\n",
    "    print(f'{i}\\r', end='')"
   ]
  },
  {
   "cell_type": "markdown",
   "id": "4233710d-9274-4dae-b22d-cf42b57ad862",
   "metadata": {},
   "source": [
    "# Split"
   ]
  },
  {
   "cell_type": "code",
   "execution_count": 13,
   "id": "ce7a95e6-2486-42fb-97fb-865e3fd6a561",
   "metadata": {},
   "outputs": [],
   "source": [
    "from sklearn.model_selection import train_test_split"
   ]
  },
  {
   "cell_type": "code",
   "execution_count": 14,
   "id": "fcb9840f-2f41-45be-99a5-f05f3ab73ed8",
   "metadata": {},
   "outputs": [],
   "source": [
    "X_train, X_test, y_train, y_test = train_test_split(\n",
    "    X, \n",
    "    y, \n",
    "    test_size=0.2, \n",
    "    random_state=88\n",
    ")\n",
    "\n",
    "X_train, X_val, y_train, y_val = train_test_split(\n",
    "    X_train, \n",
    "    y_train, \n",
    "    test_size=0.2, \n",
    "    random_state=88\n",
    ")\n",
    "\n",
    "len(X_train), len(X_val), len(X_test)"
   ]
  },
  {
   "cell_type": "code",
   "execution_count": 17,
   "id": "929de60c-7128-4e35-8efc-4b5f9ee9471c",
   "metadata": {},
   "outputs": [
    {
     "data": {
      "text/plain": [
       "array(['c1ccc2[nH]c(NC34CC5CC(CC(C5)C3)C4)nc2c1',\n",
       "       'CCOC(=O)c1c(C)nc(N2CCN(S(=O)(=O)c3ccc(NC(C)=O)cc3)CC2)nc1-c1ccccc1',\n",
       "       'O=C(CCCCCCCNc1c2c(nc3cc(Cl)cc(Cl)c13)CCCC2)NCCc1c[nH]c2ccccc12',\n",
       "       ..., 'CCCCCCCCOC[n+]1ccn(C)c1/C=N/O.[Cl-]',\n",
       "       'Cc1c(C)c2ccc(OCCCCN(C)Cc3ccccc3)cc2oc1=O',\n",
       "       'COc1ccc(/C=C/C(=O)NCCC2CCN(Cc3ccccc3)CC2)cc1OC'], dtype=object)"
      ]
     },
     "execution_count": 17,
     "metadata": {},
     "output_type": "execute_result"
    }
   ],
   "source": [
    "X_train"
   ]
  },
  {
   "cell_type": "code",
   "execution_count": 18,
   "id": "dd72855a-8310-4a5e-b5c8-7fe181ea8edd",
   "metadata": {},
   "outputs": [],
   "source": [
    "dgen_train = DataGenerator(X_train, y_train, seq_length=max_sequence_len, batch_size=128, data_augmentation=True)\n",
    "dgen_val = DataGenerator(X_val, y_val, seq_length=max_sequence_len, batch_size=128, data_augmentation=False)\n",
    "dgen_test = DataGenerator(X_test, y_test, seq_length=max_sequence_len, batch_size=128, data_augmentation=False)"
   ]
  },
  {
   "cell_type": "code",
   "execution_count": 19,
   "id": "1bf28e8f-b29e-4b60-b7a2-4f08ff5a547b",
   "metadata": {},
   "outputs": [
    {
     "name": "stdout",
     "output_type": "stream",
     "text": [
      "9\r"
     ]
    }
   ],
   "source": [
    "for i, (X_b, y_b) in enumerate(dgen_test):\n",
    "    print(f'{i}\\r', end='')"
   ]
  },
  {
   "cell_type": "code",
   "execution_count": 20,
   "id": "222c7f1c-7f3e-40b4-9fb5-5b3ea340c3b0",
   "metadata": {},
   "outputs": [
    {
     "data": {
      "text/plain": [
       "(13, 227)"
      ]
     },
     "execution_count": 20,
     "metadata": {},
     "output_type": "execute_result"
    }
   ],
   "source": [
    "X_b.shape"
   ]
  },
  {
   "cell_type": "markdown",
   "id": "85941430-2534-4d7d-ba52-d934a31c1bf6",
   "metadata": {},
   "source": [
    "# Network Model"
   ]
  },
  {
   "cell_type": "code",
   "execution_count": 21,
   "id": "6bd5d1bf-4640-4cbc-acd3-72881ddcc07e",
   "metadata": {
    "tags": []
   },
   "outputs": [],
   "source": [
    "from tensorflow.keras import backend as K\n",
    "\n",
    "from tensorflow.keras.callbacks import ModelCheckpoint, EarlyStopping, TensorBoard\n",
    "from tensorflow.keras.optimizers import Adam\n",
    "from tensorflow.keras.models import Model\n",
    "from tensorflow.keras.layers import (\n",
    "    Dense, Activation, Embedding, Flatten, Dropout, \n",
    "    Concatenate, Input,\n",
    "    Conv1D, MaxPool1D, GlobalAveragePooling1D\n",
    ")\n"
   ]
  },
  {
   "cell_type": "code",
   "execution_count": 22,
   "id": "8308048c-be62-473c-965a-4a11d0b613d7",
   "metadata": {},
   "outputs": [],
   "source": [
    "# Métrica\n",
    "def R2(y_true, y_pred):\n",
    "    SS_res =  K.sum(K.square( y_true-y_pred ))\n",
    "    SS_tot = K.sum(K.square( y_true - K.mean(y_true) ) )\n",
    "    return ( 1 - SS_res/(SS_tot + K.epsilon()) )\n",
    "\n",
    "def calculate_r2(y_true, y_pred, _round=8):\n",
    "    return round(1 - ((y_true - y_pred.reshape(-1)) ** 2).sum() / ((y_true - y_true.mean()) ** 2).sum(), _round)"
   ]
  },
  {
   "cell_type": "code",
   "execution_count": 23,
   "id": "4362dcc3-1e89-4d8c-b5e6-2b67a5d37074",
   "metadata": {},
   "outputs": [],
   "source": [
    "mcp = ModelCheckpoint(\n",
    "    'models/best_model_{epoch}', \n",
    "    save_best_only=True, \n",
    "    save_format=\"h5\"\n",
    ")"
   ]
  },
  {
   "cell_type": "code",
   "execution_count": 24,
   "id": "5f03bbe2-e1ac-481d-8f17-a390c31242b7",
   "metadata": {},
   "outputs": [],
   "source": [
    "# EarlyStopping\n",
    "early_stopping = EarlyStopping(\n",
    "    monitor='val_loss',\n",
    "    patience=10,                  # number of epochs with no improvement (0 means the training \n",
    "                                  # is terminated as soon as the performance measure gets worse \n",
    "                                  # from one epoch to the next)\n",
    "    restore_best_weights=True\n",
    ")"
   ]
  },
  {
   "cell_type": "code",
   "execution_count": 25,
   "id": "ff491079-3a55-4902-b5c0-52efe549d0a8",
   "metadata": {},
   "outputs": [],
   "source": [
    "# Tensorboard\n",
    "tensorboard = TensorBoard(\n",
    "    log_dir=\"logs/fit/model-default\",\n",
    "    histogram_freq=1,\n",
    "    write_graph=False,\n",
    "    write_images=False\n",
    ")"
   ]
  },
  {
   "cell_type": "code",
   "execution_count": 26,
   "id": "98aa4201-cd4e-4d7f-b695-9e32b5dfe1c6",
   "metadata": {},
   "outputs": [],
   "source": [
    "# Implementar modelo de TextCNN\n",
    "\n",
    "def text_cnn_1d(sequence_length, vocab_size, embedding_size, filter_sizes, num_filters):\n",
    "    \"\"\" \"\"\"\n",
    "    \n",
    "    # ref: https://analyticsindiamag.com/guide-to-text-classification-using-textcnn/\n",
    "\n",
    "    max_pool_div = 4  # new\n",
    "    input_x = Input(shape=(sequence_length,), name='input_x')\n",
    "    embedding = Embedding(vocab_size + 1, embedding_size, name='embedding')(input_x)\n",
    "    pooled_outputs = []\n",
    "\n",
    "    for filter_size in filter_sizes:\n",
    "    \n",
    "        conv = Conv1D(\n",
    "            filters=num_filters, \n",
    "            kernel_size=filter_size, \n",
    "            activation=\"relu\"\n",
    "        )(embedding)\n",
    "\n",
    "        max_p = MaxPool1D(\n",
    "            pool_size=(sequence_length - filter_size + 1) // max_pool_div\n",
    "        )(conv)\n",
    "\n",
    "        pooled_outputs.append(max_p)    \n",
    "\n",
    "    h_pool = Concatenate(axis=2)(pooled_outputs)\n",
    "    dense = Flatten()(h_pool)\n",
    "    dense = Dense(100, activation=\"relu\")(dense)\n",
    "    dense = Dense(50, activation=\"relu\")(dense)\n",
    "    dense = Dense(1)(dense) # Salida\n",
    "\n",
    "    model = Model(input_x, dense)\n",
    "    \n",
    "    return model"
   ]
  },
  {
   "cell_type": "code",
   "execution_count": 27,
   "id": "d3db729c-1a80-40ad-b3e5-59329b172ee0",
   "metadata": {},
   "outputs": [],
   "source": [
    "# Hiperparámtros de referencia\n",
    "FILTER_SIZES = (3, 4, 5)\n",
    "NUM_FILTERS = 128\n",
    "vocab_size = len(smiles_dict)\n",
    "embeddings_size = 128"
   ]
  },
  {
   "cell_type": "code",
   "execution_count": 28,
   "id": "0e0903a5-9840-4994-9964-8e2d3e9eb326",
   "metadata": {},
   "outputs": [
    {
     "name": "stderr",
     "output_type": "stream",
     "text": [
      "2023-02-21 14:28:10.782923: I tensorflow/core/platform/cpu_feature_guard.cc:193] This TensorFlow binary is optimized with oneAPI Deep Neural Network Library (oneDNN) to use the following CPU instructions in performance-critical operations:  AVX2 AVX512F AVX512_VNNI FMA\n",
      "To enable them in other operations, rebuild TensorFlow with the appropriate compiler flags.\n"
     ]
    }
   ],
   "source": [
    "model = text_cnn_1d(\n",
    "    max_sequence_len,\n",
    "    vocab_size,\n",
    "    embeddings_size,\n",
    "    FILTER_SIZES,\n",
    "    NUM_FILTERS\n",
    ")"
   ]
  },
  {
   "cell_type": "code",
   "execution_count": 29,
   "id": "9138b411-fc5d-41bd-8c8e-c12580cc5b14",
   "metadata": {},
   "outputs": [],
   "source": [
    "model.compile(optimizer=Adam(learning_rate=0.0001), loss='mse', metrics=[R2])"
   ]
  },
  {
   "cell_type": "code",
   "execution_count": 30,
   "id": "eb1616d0-c1e3-43e0-b779-e415b94b7415",
   "metadata": {},
   "outputs": [
    {
     "name": "stdout",
     "output_type": "stream",
     "text": [
      "Known TensorBoard instances:\n",
      "  - port 6006: logdir logs/fit/ (started 1 day, 0:51:31 ago; pid 2193)\n"
     ]
    }
   ],
   "source": [
    "## Tensorboard\n",
    "from tensorboard import notebook\n",
    "notebook.list() \n",
    "\n",
    "# %tensorboard --logdir logs/fit/\n",
    "# !tensorboard --logdir logs/fit/ -> Run in your cli (with poetry)"
   ]
  },
  {
   "cell_type": "code",
   "execution_count": 31,
   "id": "3f37ab4e-0e3a-44c6-a572-ba5c67930c61",
   "metadata": {
    "tags": []
   },
   "outputs": [
    {
     "name": "stdout",
     "output_type": "stream",
     "text": [
      "Epoch 1/500\n",
      "30/30 [==============================] - 9s 266ms/step - loss: 34.5813 - R2: -12.6284 - val_loss: 30.9043 - val_R2: -10.1393\n",
      "Epoch 2/500\n",
      "30/30 [==============================] - 9s 283ms/step - loss: 25.6211 - R2: -9.1589 - val_loss: 17.4200 - val_R2: -5.6030\n",
      "Epoch 3/500\n",
      "30/30 [==============================] - 8s 278ms/step - loss: 8.7150 - R2: -2.3630 - val_loss: 2.8840 - val_R2: -0.0116\n",
      "Epoch 4/500\n",
      "30/30 [==============================] - 8s 274ms/step - loss: 2.6715 - R2: -0.0216 - val_loss: 2.7890 - val_R2: 0.0146\n",
      "Epoch 5/500\n",
      "30/30 [==============================] - 7s 242ms/step - loss: 2.5460 - R2: 0.0232 - val_loss: 2.7725 - val_R2: 0.0294\n",
      "Epoch 6/500\n",
      "30/30 [==============================] - 9s 302ms/step - loss: 2.5233 - R2: 0.0411 - val_loss: 2.7523 - val_R2: 0.0356\n",
      "Epoch 7/500\n",
      "30/30 [==============================] - 9s 313ms/step - loss: 2.5055 - R2: 0.0458 - val_loss: 2.7328 - val_R2: 0.0439\n",
      "Epoch 8/500\n",
      "30/30 [==============================] - 8s 276ms/step - loss: 2.4767 - R2: 0.0618 - val_loss: 2.7182 - val_R2: 0.0491\n",
      "Epoch 9/500\n",
      "30/30 [==============================] - 9s 295ms/step - loss: 2.4571 - R2: 0.0531 - val_loss: 2.7016 - val_R2: 0.0567\n",
      "Epoch 10/500\n",
      "30/30 [==============================] - 9s 286ms/step - loss: 2.4418 - R2: 0.0710 - val_loss: 2.6766 - val_R2: 0.0635\n",
      "Epoch 11/500\n",
      "30/30 [==============================] - 8s 267ms/step - loss: 2.4168 - R2: 0.0852 - val_loss: 2.6600 - val_R2: 0.0628\n",
      "Epoch 12/500\n",
      "30/30 [==============================] - 7s 237ms/step - loss: 2.4000 - R2: 0.0959 - val_loss: 2.6295 - val_R2: 0.0869\n",
      "Epoch 13/500\n",
      "30/30 [==============================] - 8s 256ms/step - loss: 2.3665 - R2: 0.0973 - val_loss: 2.6093 - val_R2: 0.0923\n",
      "Epoch 14/500\n",
      "30/30 [==============================] - 8s 252ms/step - loss: 2.3521 - R2: 0.0969 - val_loss: 2.6088 - val_R2: 0.0622\n",
      "Epoch 15/500\n",
      "30/30 [==============================] - 8s 264ms/step - loss: 2.3153 - R2: 0.1022 - val_loss: 2.5619 - val_R2: 0.1117\n",
      "Epoch 16/500\n",
      "30/30 [==============================] - 8s 279ms/step - loss: 2.2929 - R2: 0.1310 - val_loss: 2.5341 - val_R2: 0.1189\n",
      "Epoch 17/500\n",
      "30/30 [==============================] - 8s 275ms/step - loss: 2.2704 - R2: 0.1382 - val_loss: 2.5052 - val_R2: 0.1616\n",
      "Epoch 18/500\n",
      "30/30 [==============================] - 8s 266ms/step - loss: 2.2380 - R2: 0.1472 - val_loss: 2.4798 - val_R2: 0.1067\n",
      "Epoch 19/500\n",
      "30/30 [==============================] - 8s 272ms/step - loss: 2.2107 - R2: 0.1615 - val_loss: 2.4589 - val_R2: 0.1463\n",
      "Epoch 20/500\n",
      "30/30 [==============================] - 8s 259ms/step - loss: 2.1900 - R2: 0.1691 - val_loss: 2.4321 - val_R2: 0.1656\n",
      "Epoch 21/500\n",
      "30/30 [==============================] - 8s 250ms/step - loss: 2.1578 - R2: 0.1602 - val_loss: 2.4171 - val_R2: 0.1607\n",
      "Epoch 22/500\n",
      "30/30 [==============================] - 8s 268ms/step - loss: 2.1274 - R2: 0.1974 - val_loss: 2.3633 - val_R2: 0.1765\n",
      "Epoch 23/500\n",
      "30/30 [==============================] - 7s 239ms/step - loss: 2.0996 - R2: 0.1992 - val_loss: 2.3416 - val_R2: 0.1840\n",
      "Epoch 24/500\n",
      "30/30 [==============================] - 7s 233ms/step - loss: 2.0584 - R2: 0.2275 - val_loss: 2.3035 - val_R2: 0.1882\n",
      "Epoch 25/500\n",
      "30/30 [==============================] - 7s 231ms/step - loss: 2.0338 - R2: 0.2309 - val_loss: 2.2727 - val_R2: 0.1796\n",
      "Epoch 26/500\n",
      "30/30 [==============================] - 7s 235ms/step - loss: 2.0036 - R2: 0.2436 - val_loss: 2.2517 - val_R2: 0.2255\n",
      "Epoch 27/500\n",
      "30/30 [==============================] - 7s 232ms/step - loss: 1.9460 - R2: 0.2541 - val_loss: 2.2311 - val_R2: 0.2364\n",
      "Epoch 28/500\n",
      "30/30 [==============================] - 7s 233ms/step - loss: 1.9599 - R2: 0.2302 - val_loss: 2.2012 - val_R2: 0.2179\n",
      "Epoch 29/500\n",
      "30/30 [==============================] - 7s 236ms/step - loss: 1.9369 - R2: 0.2667 - val_loss: 2.1892 - val_R2: 0.2283\n",
      "Epoch 30/500\n",
      "30/30 [==============================] - 7s 246ms/step - loss: 1.9122 - R2: 0.2751 - val_loss: 2.1643 - val_R2: 0.2321\n",
      "Epoch 31/500\n",
      "30/30 [==============================] - 7s 237ms/step - loss: 1.9024 - R2: 0.2689 - val_loss: 2.1740 - val_R2: 0.1776\n",
      "Epoch 32/500\n",
      "30/30 [==============================] - 7s 230ms/step - loss: 1.8779 - R2: 0.2846 - val_loss: 2.1482 - val_R2: 0.2633\n",
      "Epoch 33/500\n",
      "30/30 [==============================] - 7s 232ms/step - loss: 1.8553 - R2: 0.2887 - val_loss: 2.1416 - val_R2: 0.2491\n",
      "Epoch 34/500\n",
      "30/30 [==============================] - 7s 241ms/step - loss: 1.8385 - R2: 0.3170 - val_loss: 2.0981 - val_R2: 0.2933\n",
      "Epoch 35/500\n",
      "30/30 [==============================] - 8s 258ms/step - loss: 1.8223 - R2: 0.3159 - val_loss: 2.0922 - val_R2: 0.2847\n",
      "Epoch 36/500\n",
      "30/30 [==============================] - 7s 236ms/step - loss: 1.8091 - R2: 0.3051 - val_loss: 2.1107 - val_R2: 0.2492\n",
      "Epoch 37/500\n",
      "30/30 [==============================] - 7s 237ms/step - loss: 1.8034 - R2: 0.3142 - val_loss: 2.0431 - val_R2: 0.2854\n",
      "Epoch 38/500\n",
      "30/30 [==============================] - 8s 261ms/step - loss: 1.8017 - R2: 0.3218 - val_loss: 2.0672 - val_R2: 0.3043\n",
      "Epoch 39/500\n",
      "30/30 [==============================] - 7s 239ms/step - loss: 1.7603 - R2: 0.3127 - val_loss: 2.0119 - val_R2: 0.2888\n",
      "Epoch 40/500\n",
      "30/30 [==============================] - 7s 244ms/step - loss: 1.7506 - R2: 0.3453 - val_loss: 2.0091 - val_R2: 0.3221\n",
      "Epoch 41/500\n",
      "30/30 [==============================] - 8s 272ms/step - loss: 1.7535 - R2: 0.3411 - val_loss: 2.0109 - val_R2: 0.3015\n",
      "Epoch 42/500\n",
      "30/30 [==============================] - 8s 274ms/step - loss: 1.7317 - R2: 0.3372 - val_loss: 1.9829 - val_R2: 0.3353\n",
      "Epoch 43/500\n",
      "30/30 [==============================] - 9s 308ms/step - loss: 1.7234 - R2: 0.3365 - val_loss: 1.9740 - val_R2: 0.3338\n",
      "Epoch 44/500\n",
      "30/30 [==============================] - 9s 292ms/step - loss: 1.7123 - R2: 0.3278 - val_loss: 1.9509 - val_R2: 0.3240\n",
      "Epoch 45/500\n",
      "30/30 [==============================] - 9s 292ms/step - loss: 1.6926 - R2: 0.3620 - val_loss: 2.0190 - val_R2: 0.2863\n",
      "Epoch 46/500\n",
      "30/30 [==============================] - 8s 277ms/step - loss: 1.7070 - R2: 0.3379 - val_loss: 1.9431 - val_R2: 0.3275\n",
      "Epoch 47/500\n",
      "30/30 [==============================] - 8s 273ms/step - loss: 1.6800 - R2: 0.3512 - val_loss: 1.9552 - val_R2: 0.3342\n",
      "Epoch 48/500\n",
      "30/30 [==============================] - 7s 246ms/step - loss: 1.6816 - R2: 0.3443 - val_loss: 1.9043 - val_R2: 0.3168\n",
      "Epoch 49/500\n",
      "30/30 [==============================] - 7s 230ms/step - loss: 1.6578 - R2: 0.3460 - val_loss: 1.8946 - val_R2: 0.3394\n",
      "Epoch 50/500\n",
      "30/30 [==============================] - 7s 248ms/step - loss: 1.6645 - R2: 0.3634 - val_loss: 1.9105 - val_R2: 0.3493\n",
      "Epoch 51/500\n",
      "30/30 [==============================] - 8s 258ms/step - loss: 1.6277 - R2: 0.3793 - val_loss: 1.8762 - val_R2: 0.3538\n",
      "Epoch 52/500\n",
      "30/30 [==============================] - 8s 261ms/step - loss: 1.6359 - R2: 0.3934 - val_loss: 1.8743 - val_R2: 0.3399\n",
      "Epoch 53/500\n",
      "30/30 [==============================] - 7s 231ms/step - loss: 1.6214 - R2: 0.3863 - val_loss: 1.9133 - val_R2: 0.3167\n",
      "Epoch 54/500\n",
      "30/30 [==============================] - 7s 245ms/step - loss: 1.6279 - R2: 0.3895 - val_loss: 1.8540 - val_R2: 0.3724\n",
      "Epoch 55/500\n",
      "30/30 [==============================] - 7s 238ms/step - loss: 1.6064 - R2: 0.3896 - val_loss: 1.8602 - val_R2: 0.3449\n",
      "Epoch 56/500\n",
      "30/30 [==============================] - 7s 235ms/step - loss: 1.6109 - R2: 0.3835 - val_loss: 1.8417 - val_R2: 0.3674\n",
      "Epoch 57/500\n",
      "30/30 [==============================] - 7s 231ms/step - loss: 1.5843 - R2: 0.3897 - val_loss: 1.9045 - val_R2: 0.3217\n",
      "Epoch 58/500\n",
      "30/30 [==============================] - 7s 231ms/step - loss: 1.5678 - R2: 0.4010 - val_loss: 1.8228 - val_R2: 0.3755\n",
      "Epoch 59/500\n",
      "30/30 [==============================] - 7s 241ms/step - loss: 1.5589 - R2: 0.4007 - val_loss: 1.8123 - val_R2: 0.3730\n",
      "Epoch 60/500\n",
      "30/30 [==============================] - 8s 265ms/step - loss: 1.5638 - R2: 0.4049 - val_loss: 1.8102 - val_R2: 0.3274\n",
      "Epoch 61/500\n",
      "30/30 [==============================] - 8s 251ms/step - loss: 1.5865 - R2: 0.4094 - val_loss: 1.8467 - val_R2: 0.3799\n",
      "Epoch 62/500\n",
      "30/30 [==============================] - 7s 237ms/step - loss: 1.5446 - R2: 0.4234 - val_loss: 1.7816 - val_R2: 0.3941\n",
      "Epoch 63/500\n",
      "30/30 [==============================] - 7s 239ms/step - loss: 1.5327 - R2: 0.4163 - val_loss: 1.7999 - val_R2: 0.3764\n",
      "Epoch 64/500\n",
      "30/30 [==============================] - 7s 246ms/step - loss: 1.5460 - R2: 0.4021 - val_loss: 1.7953 - val_R2: 0.3782\n",
      "Epoch 65/500\n",
      "30/30 [==============================] - 7s 239ms/step - loss: 1.5176 - R2: 0.4255 - val_loss: 1.7666 - val_R2: 0.3722\n",
      "Epoch 66/500\n",
      "30/30 [==============================] - 7s 240ms/step - loss: 1.5159 - R2: 0.4165 - val_loss: 1.7478 - val_R2: 0.4068\n",
      "Epoch 67/500\n",
      "30/30 [==============================] - 7s 232ms/step - loss: 1.5002 - R2: 0.4307 - val_loss: 1.7479 - val_R2: 0.3953\n",
      "Epoch 68/500\n",
      "30/30 [==============================] - 8s 259ms/step - loss: 1.4886 - R2: 0.4360 - val_loss: 1.7363 - val_R2: 0.4013\n",
      "Epoch 69/500\n",
      "30/30 [==============================] - 8s 265ms/step - loss: 1.4898 - R2: 0.4330 - val_loss: 1.7292 - val_R2: 0.3805\n",
      "Epoch 70/500\n",
      "30/30 [==============================] - 7s 245ms/step - loss: 1.4658 - R2: 0.4460 - val_loss: 1.7344 - val_R2: 0.4116\n",
      "Epoch 71/500\n",
      "30/30 [==============================] - 8s 258ms/step - loss: 1.4623 - R2: 0.4513 - val_loss: 1.7229 - val_R2: 0.3966\n",
      "Epoch 72/500\n",
      "30/30 [==============================] - 9s 286ms/step - loss: 1.4505 - R2: 0.4598 - val_loss: 1.7199 - val_R2: 0.3848\n",
      "Epoch 73/500\n",
      "30/30 [==============================] - 8s 257ms/step - loss: 1.4642 - R2: 0.4445 - val_loss: 1.7027 - val_R2: 0.3923\n",
      "Epoch 74/500\n",
      "30/30 [==============================] - 8s 249ms/step - loss: 1.4667 - R2: 0.4523 - val_loss: 1.7128 - val_R2: 0.4079\n",
      "Epoch 75/500\n",
      "30/30 [==============================] - 7s 235ms/step - loss: 1.4282 - R2: 0.4542 - val_loss: 1.6859 - val_R2: 0.4146\n",
      "Epoch 76/500\n",
      "30/30 [==============================] - 7s 242ms/step - loss: 1.4221 - R2: 0.4638 - val_loss: 1.6776 - val_R2: 0.4164\n",
      "Epoch 77/500\n",
      "30/30 [==============================] - 8s 259ms/step - loss: 1.4420 - R2: 0.4549 - val_loss: 1.6710 - val_R2: 0.4074\n",
      "Epoch 78/500\n",
      "30/30 [==============================] - 8s 249ms/step - loss: 1.3985 - R2: 0.4771 - val_loss: 1.6883 - val_R2: 0.4021\n",
      "Epoch 79/500\n",
      "30/30 [==============================] - 7s 237ms/step - loss: 1.4129 - R2: 0.4720 - val_loss: 1.6969 - val_R2: 0.4241\n",
      "Epoch 80/500\n",
      "30/30 [==============================] - 7s 247ms/step - loss: 1.4004 - R2: 0.4617 - val_loss: 1.6596 - val_R2: 0.3877\n",
      "Epoch 81/500\n",
      "30/30 [==============================] - 8s 249ms/step - loss: 1.4023 - R2: 0.4726 - val_loss: 1.6388 - val_R2: 0.4264\n",
      "Epoch 82/500\n",
      "30/30 [==============================] - 8s 265ms/step - loss: 1.3714 - R2: 0.4809 - val_loss: 1.6286 - val_R2: 0.4255\n",
      "Epoch 83/500\n",
      "30/30 [==============================] - 8s 280ms/step - loss: 1.3806 - R2: 0.4819 - val_loss: 1.6278 - val_R2: 0.4295\n",
      "Epoch 84/500\n",
      "30/30 [==============================] - 9s 297ms/step - loss: 1.3842 - R2: 0.4830 - val_loss: 1.6297 - val_R2: 0.4118\n",
      "Epoch 85/500\n",
      "30/30 [==============================] - 9s 283ms/step - loss: 1.3543 - R2: 0.4880 - val_loss: 1.6060 - val_R2: 0.4472\n",
      "Epoch 86/500\n",
      "30/30 [==============================] - 8s 276ms/step - loss: 1.3600 - R2: 0.4952 - val_loss: 1.6045 - val_R2: 0.4432\n",
      "Epoch 87/500\n",
      "30/30 [==============================] - 8s 249ms/step - loss: 1.3550 - R2: 0.4858 - val_loss: 1.6050 - val_R2: 0.4320\n",
      "Epoch 88/500\n",
      "30/30 [==============================] - 7s 239ms/step - loss: 1.3605 - R2: 0.4760 - val_loss: 1.5985 - val_R2: 0.4567\n",
      "Epoch 89/500\n",
      "30/30 [==============================] - 8s 265ms/step - loss: 1.3504 - R2: 0.4923 - val_loss: 1.6058 - val_R2: 0.4374\n",
      "Epoch 90/500\n",
      "30/30 [==============================] - 8s 269ms/step - loss: 1.3425 - R2: 0.4869 - val_loss: 1.6089 - val_R2: 0.4353\n",
      "Epoch 91/500\n",
      "30/30 [==============================] - 8s 252ms/step - loss: 1.3434 - R2: 0.4981 - val_loss: 1.5727 - val_R2: 0.4568\n",
      "Epoch 92/500\n",
      "30/30 [==============================] - 7s 237ms/step - loss: 1.3090 - R2: 0.5039 - val_loss: 1.5690 - val_R2: 0.4481\n",
      "Epoch 93/500\n",
      "30/30 [==============================] - 8s 283ms/step - loss: 1.3249 - R2: 0.5012 - val_loss: 1.5630 - val_R2: 0.4542\n",
      "Epoch 94/500\n",
      "30/30 [==============================] - 10s 320ms/step - loss: 1.3015 - R2: 0.5054 - val_loss: 1.5536 - val_R2: 0.4483\n",
      "Epoch 95/500\n",
      "30/30 [==============================] - 9s 302ms/step - loss: 1.2953 - R2: 0.5174 - val_loss: 1.5536 - val_R2: 0.4489\n",
      "Epoch 96/500\n",
      "30/30 [==============================] - 9s 301ms/step - loss: 1.2870 - R2: 0.5156 - val_loss: 1.5507 - val_R2: 0.4600\n",
      "Epoch 97/500\n",
      "30/30 [==============================] - 9s 303ms/step - loss: 1.2701 - R2: 0.5160 - val_loss: 1.6186 - val_R2: 0.4002\n",
      "Epoch 98/500\n",
      "30/30 [==============================] - 10s 340ms/step - loss: 1.2760 - R2: 0.5189 - val_loss: 1.5864 - val_R2: 0.4350\n",
      "Epoch 99/500\n",
      "30/30 [==============================] - 14s 462ms/step - loss: 1.2799 - R2: 0.5207 - val_loss: 1.5239 - val_R2: 0.4739\n",
      "Epoch 100/500\n",
      "30/30 [==============================] - 13s 444ms/step - loss: 1.2350 - R2: 0.4908 - val_loss: 1.5144 - val_R2: 0.4836\n",
      "Epoch 101/500\n",
      "30/30 [==============================] - 10s 345ms/step - loss: 1.2511 - R2: 0.5280 - val_loss: 1.5115 - val_R2: 0.4770\n",
      "Epoch 102/500\n",
      "30/30 [==============================] - 9s 298ms/step - loss: 1.2682 - R2: 0.5073 - val_loss: 1.5009 - val_R2: 0.4759\n",
      "Epoch 103/500\n",
      "30/30 [==============================] - 8s 267ms/step - loss: 1.2431 - R2: 0.5231 - val_loss: 1.4974 - val_R2: 0.4624\n",
      "Epoch 104/500\n",
      "30/30 [==============================] - 8s 279ms/step - loss: 1.2578 - R2: 0.5272 - val_loss: 1.5017 - val_R2: 0.4823\n",
      "Epoch 105/500\n",
      "30/30 [==============================] - 10s 324ms/step - loss: 1.2345 - R2: 0.5324 - val_loss: 1.4838 - val_R2: 0.4689\n",
      "Epoch 106/500\n",
      "30/30 [==============================] - 10s 318ms/step - loss: 1.2441 - R2: 0.5341 - val_loss: 1.4875 - val_R2: 0.5062\n",
      "Epoch 107/500\n",
      "30/30 [==============================] - 9s 314ms/step - loss: 1.2177 - R2: 0.5443 - val_loss: 1.5992 - val_R2: 0.4577\n",
      "Epoch 108/500\n",
      "30/30 [==============================] - 10s 340ms/step - loss: 1.2291 - R2: 0.5407 - val_loss: 1.4864 - val_R2: 0.4806\n",
      "Epoch 109/500\n",
      "30/30 [==============================] - 10s 336ms/step - loss: 1.1893 - R2: 0.5539 - val_loss: 1.5334 - val_R2: 0.4702\n",
      "Epoch 110/500\n",
      "30/30 [==============================] - 9s 310ms/step - loss: 1.2018 - R2: 0.5424 - val_loss: 1.4714 - val_R2: 0.4924\n",
      "Epoch 111/500\n",
      "30/30 [==============================] - 10s 332ms/step - loss: 1.1776 - R2: 0.5551 - val_loss: 1.4720 - val_R2: 0.4742\n",
      "Epoch 112/500\n",
      "30/30 [==============================] - 10s 345ms/step - loss: 1.2331 - R2: 0.5405 - val_loss: 1.4560 - val_R2: 0.4859\n",
      "Epoch 113/500\n",
      "30/30 [==============================] - 9s 294ms/step - loss: 1.1892 - R2: 0.5466 - val_loss: 1.4502 - val_R2: 0.5142\n",
      "Epoch 114/500\n",
      "30/30 [==============================] - 9s 288ms/step - loss: 1.1753 - R2: 0.5488 - val_loss: 1.4541 - val_R2: 0.5056\n",
      "Epoch 115/500\n",
      "30/30 [==============================] - 10s 340ms/step - loss: 1.1843 - R2: 0.5567 - val_loss: 1.4320 - val_R2: 0.5055\n",
      "Epoch 116/500\n",
      "30/30 [==============================] - 11s 365ms/step - loss: 1.1935 - R2: 0.5381 - val_loss: 1.4431 - val_R2: 0.4883\n",
      "Epoch 117/500\n",
      "30/30 [==============================] - 9s 314ms/step - loss: 1.1693 - R2: 0.5503 - val_loss: 1.4305 - val_R2: 0.5011\n",
      "Epoch 118/500\n",
      "30/30 [==============================] - 9s 293ms/step - loss: 1.1608 - R2: 0.5589 - val_loss: 1.4557 - val_R2: 0.5044\n",
      "Epoch 119/500\n",
      "30/30 [==============================] - 9s 310ms/step - loss: 1.1862 - R2: 0.5516 - val_loss: 1.4494 - val_R2: 0.5111\n",
      "Epoch 120/500\n",
      "30/30 [==============================] - 9s 295ms/step - loss: 1.1465 - R2: 0.5659 - val_loss: 1.4857 - val_R2: 0.4708\n",
      "Epoch 121/500\n",
      "30/30 [==============================] - 8s 278ms/step - loss: 1.1564 - R2: 0.5613 - val_loss: 1.4507 - val_R2: 0.4995\n",
      "Epoch 122/500\n",
      "30/30 [==============================] - 8s 276ms/step - loss: 1.1534 - R2: 0.5652 - val_loss: 1.5123 - val_R2: 0.4536\n",
      "Epoch 123/500\n",
      "30/30 [==============================] - 8s 268ms/step - loss: 1.1584 - R2: 0.5498 - val_loss: 1.4296 - val_R2: 0.5142\n",
      "Epoch 124/500\n",
      "30/30 [==============================] - 11s 354ms/step - loss: 1.1543 - R2: 0.5594 - val_loss: 1.4251 - val_R2: 0.4984\n",
      "Epoch 125/500\n",
      "30/30 [==============================] - 9s 293ms/step - loss: 1.1431 - R2: 0.5751 - val_loss: 1.4201 - val_R2: 0.5020\n",
      "Epoch 126/500\n",
      "30/30 [==============================] - 8s 271ms/step - loss: 1.1391 - R2: 0.5734 - val_loss: 1.5230 - val_R2: 0.4658\n",
      "Epoch 127/500\n",
      "30/30 [==============================] - 9s 290ms/step - loss: 1.1477 - R2: 0.5582 - val_loss: 1.3947 - val_R2: 0.5052\n",
      "Epoch 128/500\n",
      "30/30 [==============================] - 9s 284ms/step - loss: 1.1470 - R2: 0.5652 - val_loss: 1.3923 - val_R2: 0.5069\n",
      "Epoch 129/500\n",
      "30/30 [==============================] - 8s 271ms/step - loss: 1.1440 - R2: 0.5631 - val_loss: 1.3924 - val_R2: 0.5302\n",
      "Epoch 130/500\n",
      "30/30 [==============================] - 8s 256ms/step - loss: 1.1083 - R2: 0.5697 - val_loss: 1.4231 - val_R2: 0.5027\n",
      "Epoch 131/500\n",
      "30/30 [==============================] - 8s 269ms/step - loss: 1.1146 - R2: 0.5793 - val_loss: 1.3895 - val_R2: 0.5193\n",
      "Epoch 132/500\n",
      "30/30 [==============================] - 9s 291ms/step - loss: 1.1191 - R2: 0.5718 - val_loss: 1.4313 - val_R2: 0.4626\n",
      "Epoch 133/500\n",
      "30/30 [==============================] - 8s 275ms/step - loss: 1.1234 - R2: 0.5750 - val_loss: 1.4449 - val_R2: 0.4930\n",
      "Epoch 134/500\n",
      "30/30 [==============================] - 8s 254ms/step - loss: 1.0851 - R2: 0.5830 - val_loss: 1.3971 - val_R2: 0.5261\n",
      "Epoch 135/500\n",
      "30/30 [==============================] - 7s 241ms/step - loss: 1.0906 - R2: 0.5817 - val_loss: 1.3893 - val_R2: 0.5240\n",
      "Epoch 136/500\n",
      "30/30 [==============================] - 8s 277ms/step - loss: 1.0904 - R2: 0.5624 - val_loss: 1.4016 - val_R2: 0.5251\n",
      "Epoch 137/500\n",
      "30/30 [==============================] - 8s 260ms/step - loss: 1.0853 - R2: 0.5884 - val_loss: 1.4611 - val_R2: 0.4810\n",
      "Epoch 138/500\n",
      "30/30 [==============================] - 8s 270ms/step - loss: 1.0790 - R2: 0.5801 - val_loss: 1.3919 - val_R2: 0.5224\n",
      "Epoch 139/500\n",
      "30/30 [==============================] - 8s 273ms/step - loss: 1.0916 - R2: 0.5908 - val_loss: 1.3756 - val_R2: 0.5216\n",
      "Epoch 140/500\n",
      "30/30 [==============================] - 8s 276ms/step - loss: 1.0703 - R2: 0.5981 - val_loss: 1.4133 - val_R2: 0.5194\n",
      "Epoch 141/500\n",
      "30/30 [==============================] - 8s 256ms/step - loss: 1.0602 - R2: 0.6031 - val_loss: 1.4219 - val_R2: 0.4793\n",
      "Epoch 142/500\n",
      "30/30 [==============================] - 8s 250ms/step - loss: 1.0917 - R2: 0.5259 - val_loss: 1.4113 - val_R2: 0.4962\n",
      "Epoch 143/500\n",
      "30/30 [==============================] - 8s 259ms/step - loss: 1.0591 - R2: 0.5978 - val_loss: 1.3635 - val_R2: 0.5286\n",
      "Epoch 144/500\n",
      "30/30 [==============================] - 8s 268ms/step - loss: 1.0660 - R2: 0.5997 - val_loss: 1.3649 - val_R2: 0.4985\n",
      "Epoch 145/500\n",
      "30/30 [==============================] - 9s 304ms/step - loss: 1.0682 - R2: 0.5931 - val_loss: 1.3938 - val_R2: 0.5155\n",
      "Epoch 146/500\n",
      "30/30 [==============================] - 9s 296ms/step - loss: 1.0334 - R2: 0.6103 - val_loss: 1.3702 - val_R2: 0.5288\n",
      "Epoch 147/500\n",
      "30/30 [==============================] - 8s 250ms/step - loss: 1.0509 - R2: 0.5991 - val_loss: 1.3558 - val_R2: 0.5221\n",
      "Epoch 148/500\n",
      "30/30 [==============================] - 9s 287ms/step - loss: 1.0496 - R2: 0.5986 - val_loss: 1.4240 - val_R2: 0.5218\n",
      "Epoch 149/500\n",
      "30/30 [==============================] - 9s 298ms/step - loss: 1.0331 - R2: 0.6114 - val_loss: 1.3542 - val_R2: 0.5281\n",
      "Epoch 150/500\n",
      "30/30 [==============================] - 8s 277ms/step - loss: 1.0373 - R2: 0.6104 - val_loss: 1.3613 - val_R2: 0.5112\n",
      "Epoch 151/500\n",
      "30/30 [==============================] - 8s 267ms/step - loss: 1.0325 - R2: 0.6055 - val_loss: 1.5751 - val_R2: 0.4011\n",
      "Epoch 152/500\n",
      "30/30 [==============================] - 9s 289ms/step - loss: 1.0694 - R2: 0.5766 - val_loss: 1.3599 - val_R2: 0.5304\n",
      "Epoch 153/500\n",
      "30/30 [==============================] - 8s 268ms/step - loss: 1.0477 - R2: 0.5974 - val_loss: 1.4231 - val_R2: 0.5040\n",
      "Epoch 154/500\n",
      "30/30 [==============================] - 9s 312ms/step - loss: 1.0143 - R2: 0.6175 - val_loss: 1.3740 - val_R2: 0.5319\n",
      "Epoch 155/500\n",
      "30/30 [==============================] - 8s 258ms/step - loss: 1.0250 - R2: 0.6130 - val_loss: 1.3714 - val_R2: 0.5179\n",
      "Epoch 156/500\n",
      "30/30 [==============================] - 9s 311ms/step - loss: 1.0144 - R2: 0.6225 - val_loss: 1.3852 - val_R2: 0.4997\n",
      "Epoch 157/500\n",
      "30/30 [==============================] - 9s 285ms/step - loss: 1.0258 - R2: 0.6002 - val_loss: 1.5075 - val_R2: 0.4718\n",
      "Epoch 158/500\n",
      "30/30 [==============================] - 9s 283ms/step - loss: 1.0555 - R2: 0.6007 - val_loss: 1.4143 - val_R2: 0.4906\n",
      "Epoch 159/500\n",
      "30/30 [==============================] - 8s 265ms/step - loss: 1.0059 - R2: 0.6161 - val_loss: 1.3589 - val_R2: 0.5424\n"
     ]
    }
   ],
   "source": [
    "model_name = \"modelTEextCNN\"\n",
    "tensorboard.log_dir = f\"logs/fit/model-{model_name}-{dt.now().strftime('%Y%m%d_%H%M')}\"\n",
    "\n",
    "EPOCHS = 500  # La idea es que se detenga por el earlyStopping\n",
    "\n",
    "history = model.fit(\n",
    "    dgen_train, \n",
    "    epochs=EPOCHS, \n",
    "    validation_data=dgen_val,\n",
    "    callbacks=[\n",
    "        # mcp,\n",
    "        early_stopping,\n",
    "        tensorboard\n",
    "    ]\n",
    ")"
   ]
  },
  {
   "cell_type": "code",
   "execution_count": 32,
   "id": "ae9c6dbc-6e07-47b7-a24c-a07c6e0ecaf4",
   "metadata": {},
   "outputs": [
    {
     "name": "stdout",
     "output_type": "stream",
     "text": [
      "37/37 [==============================] - 1s 17ms/step\n",
      "R2: 0.471; ref value: 0.498\n"
     ]
    }
   ],
   "source": [
    "# Score\n",
    "\n",
    "X_test_eval = []\n",
    "y_t_eval = []\n",
    "\n",
    "for X_t, y_t in dgen_test:\n",
    "    X_test_eval = X_test_eval + [list(t) for t in X_t]\n",
    "    y_t_eval = y_t_eval + list(y_t)\n",
    "X_test_eval = np.array(X_test_eval)\n",
    "y_test = np.array(y_t_eval)\n",
    "\n",
    "X_test_eval.shape, y_test.shape\n",
    "y_pred = model.predict(X_test_eval)\n",
    "\n",
    "print(f\"R2: {calculate_r2(y_test, y_pred, 3)}; ref value: 0.498\")"
   ]
  },
  {
   "cell_type": "markdown",
   "id": "7f1a6260-e31f-4e5e-a923-ce67bf31152f",
   "metadata": {},
   "source": [
    "# Evaluación"
   ]
  },
  {
   "cell_type": "code",
   "execution_count": 33,
   "id": "7dd9d7e6-2789-459e-b9dd-593e10847fc4",
   "metadata": {},
   "outputs": [
    {
     "data": {
      "text/plain": [
       "<function matplotlib.pyplot.show(close=None, block=None)>"
      ]
     },
     "execution_count": 33,
     "metadata": {},
     "output_type": "execute_result"
    },
    {
     "data": {
      "image/png": "[encoded data removed]",
      "text/plain": [
       "<Figure size 500x500 with 1 Axes>"
      ]
     },
     "metadata": {},
     "output_type": "display_data"
    }
   ],
   "source": [
    "import seaborn as sns\n",
    "import matplotlib.pyplot as plt\n",
    "\n",
    "sns.set(color_codes=True)\n",
    "sns.set_style(\"white\")\n",
    "\n",
    "ax = sns.regplot(x=y_test, y=y_pred, scatter_kws={'alpha':0.4})\n",
    "ax.set_xlabel('Experimental pIC50', fontsize='large', fontweight='bold')\n",
    "ax.set_ylabel('Predicted pIC50', fontsize='large', fontweight='bold')\n",
    "ax.set_xlim(0, 12)\n",
    "ax.set_ylim(0, 12)\n",
    "ax.figure.set_size_inches(5, 5)\n",
    "plt.show"
   ]
  },
  {
   "cell_type": "code",
   "execution_count": null,
   "id": "3f9f2cc6-8687-4676-b1aa-437914379f12",
   "metadata": {},
   "outputs": [],
   "source": []
  }
 ],
 "metadata": {
  "kernelspec": {
   "display_name": "bioinformatics_final_project",
   "language": "python",
   "name": "bioinformatics_final_project"
  },
  "language_info": {
   "codemirror_mode": {
    "name": "ipython",
    "version": 3
   },
   "file_extension": ".py",
   "mimetype": "text/x-python",
   "name": "python",
   "nbconvert_exporter": "python",
   "pygments_lexer": "ipython3",
   "version": "3.9.16"
  }
 },
 "nbformat": 4,
 "nbformat_minor": 5
}
