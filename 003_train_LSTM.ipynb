{
 "cells": [
  {
   "cell_type": "code",
   "execution_count": 1,
   "id": "cd601762-9ec9-4fd6-bd08-43998a8545e8",
   "metadata": {},
   "outputs": [],
   "source": [
    "%load_ext autoreload\n",
    "%autoreload 2"
   ]
  },
  {
   "cell_type": "code",
   "execution_count": 2,
   "id": "21bee0a3-79a7-43b2-9ac2-15cad5630e22",
   "metadata": {},
   "outputs": [],
   "source": [
    "import pandas as pd\n",
    "import numpy as np\n",
    "import seaborn as sns"
   ]
  },
  {
   "cell_type": "code",
   "execution_count": 3,
   "id": "18b2709f-920e-4330-ace2-9bf7e559c05f",
   "metadata": {},
   "outputs": [],
   "source": [
    "# Evitar warnings molestos\n",
    "import absl.logging\n",
    "absl.logging.set_verbosity(absl.logging.ERROR)"
   ]
  },
  {
   "cell_type": "code",
   "execution_count": 4,
   "id": "295399de-899b-47bf-a933-ebe84e8578c3",
   "metadata": {},
   "outputs": [],
   "source": [
    "df = pd.read_csv(\n",
    "    'data/acetylcholinesterase_02_bioactivity_data_preprocessed.csv'\n",
    ")"
   ]
  },
  {
   "cell_type": "code",
   "execution_count": 5,
   "id": "d12beb26-98c7-48d5-820b-bbfbd7f6aa8f",
   "metadata": {},
   "outputs": [
    {
     "data": {
      "text/html": [
       "<div>\n",
       "<style scoped>\n",
       "    .dataframe tbody tr th:only-of-type {\n",
       "        vertical-align: middle;\n",
       "    }\n",
       "\n",
       "    .dataframe tbody tr th {\n",
       "        vertical-align: top;\n",
       "    }\n",
       "\n",
       "    .dataframe thead th {\n",
       "        text-align: right;\n",
       "    }\n",
       "</style>\n",
       "<table border=\"1\" class=\"dataframe\">\n",
       "  <thead>\n",
       "    <tr style=\"text-align: right;\">\n",
       "      <th></th>\n",
       "      <th>molecule_chembl_id</th>\n",
       "      <th>canonical_smiles</th>\n",
       "      <th>standard_value</th>\n",
       "      <th>standard_value_norm</th>\n",
       "      <th>pIC50</th>\n",
       "    </tr>\n",
       "  </thead>\n",
       "  <tbody>\n",
       "    <tr>\n",
       "      <th>0</th>\n",
       "      <td>CHEMBL133897</td>\n",
       "      <td>CCOc1nn(-c2cccc(OCc3ccccc3)c2)c(=O)o1</td>\n",
       "      <td>750.0</td>\n",
       "      <td>750.0</td>\n",
       "      <td>6.124939</td>\n",
       "    </tr>\n",
       "    <tr>\n",
       "      <th>1</th>\n",
       "      <td>CHEMBL336398</td>\n",
       "      <td>O=C(N1CCCCC1)n1nc(-c2ccc(Cl)cc2)nc1SCC1CC1</td>\n",
       "      <td>100.0</td>\n",
       "      <td>100.0</td>\n",
       "      <td>7.000000</td>\n",
       "    </tr>\n",
       "    <tr>\n",
       "      <th>2</th>\n",
       "      <td>CHEMBL131588</td>\n",
       "      <td>CN(C(=O)n1nc(-c2ccc(Cl)cc2)nc1SCC(F)(F)F)c1ccccc1</td>\n",
       "      <td>50000.0</td>\n",
       "      <td>50000.0</td>\n",
       "      <td>4.301030</td>\n",
       "    </tr>\n",
       "    <tr>\n",
       "      <th>3</th>\n",
       "      <td>CHEMBL130628</td>\n",
       "      <td>O=C(N1CCCCC1)n1nc(-c2ccc(Cl)cc2)nc1SCC(F)(F)F</td>\n",
       "      <td>300.0</td>\n",
       "      <td>300.0</td>\n",
       "      <td>6.522879</td>\n",
       "    </tr>\n",
       "    <tr>\n",
       "      <th>4</th>\n",
       "      <td>CHEMBL130478</td>\n",
       "      <td>CSc1nc(-c2ccc(OC(F)(F)F)cc2)nn1C(=O)N(C)C</td>\n",
       "      <td>800.0</td>\n",
       "      <td>800.0</td>\n",
       "      <td>6.096910</td>\n",
       "    </tr>\n",
       "  </tbody>\n",
       "</table>\n",
       "</div>"
      ],
      "text/plain": [
       "  molecule_chembl_id                                   canonical_smiles  \\\n",
       "0       CHEMBL133897              CCOc1nn(-c2cccc(OCc3ccccc3)c2)c(=O)o1   \n",
       "1       CHEMBL336398         O=C(N1CCCCC1)n1nc(-c2ccc(Cl)cc2)nc1SCC1CC1   \n",
       "2       CHEMBL131588  CN(C(=O)n1nc(-c2ccc(Cl)cc2)nc1SCC(F)(F)F)c1ccccc1   \n",
       "3       CHEMBL130628      O=C(N1CCCCC1)n1nc(-c2ccc(Cl)cc2)nc1SCC(F)(F)F   \n",
       "4       CHEMBL130478          CSc1nc(-c2ccc(OC(F)(F)F)cc2)nn1C(=O)N(C)C   \n",
       "\n",
       "   standard_value  standard_value_norm     pIC50  \n",
       "0           750.0                750.0  6.124939  \n",
       "1           100.0                100.0  7.000000  \n",
       "2         50000.0              50000.0  4.301030  \n",
       "3           300.0                300.0  6.522879  \n",
       "4           800.0                800.0  6.096910  "
      ]
     },
     "execution_count": 5,
     "metadata": {},
     "output_type": "execute_result"
    }
   ],
   "source": [
    "df.head()"
   ]
  },
  {
   "cell_type": "code",
   "execution_count": 6,
   "id": "1781781a-936e-4266-aa72-57b4b08135eb",
   "metadata": {},
   "outputs": [],
   "source": [
    "X = df['canonical_smiles']\n",
    "y = df['pIC50']"
   ]
  },
  {
   "cell_type": "code",
   "execution_count": 7,
   "id": "8a59e272-b1ad-4619-a526-5bf130133ea3",
   "metadata": {},
   "outputs": [],
   "source": [
    "# df = df[~(\n",
    "#         (df.pIC50 > df.pIC50.quantile(.975)) | \n",
    "#         (df.pIC50 < df.pIC50.quantile(.025))\n",
    "# )]  # Elimino outliers\n",
    "# \n",
    "# sns.histplot(data=df, x=\"pIC50\")"
   ]
  },
  {
   "cell_type": "code",
   "execution_count": null,
   "id": "fb0d9a50-2473-4a09-bf72-7a5746092923",
   "metadata": {},
   "outputs": [],
   "source": []
  },
  {
   "cell_type": "markdown",
   "id": "08544474-e883-4105-bcc3-9f3f9f014079",
   "metadata": {},
   "source": [
    "# Modelo Recurrentes con Embeddings a nivel de caracter"
   ]
  },
  {
   "cell_type": "markdown",
   "id": "2985df76-23b9-45a8-83ed-ce8ae510219f",
   "metadata": {},
   "source": [
    "## Canonical_smiles To secuence"
   ]
  },
  {
   "cell_type": "code",
   "execution_count": 8,
   "id": "87e524d2-e7e9-4d3b-b1f1-b62254a0bc66",
   "metadata": {},
   "outputs": [
    {
     "name": "stderr",
     "output_type": "stream",
     "text": [
      "2023-02-21 12:15:53.026919: I tensorflow/core/platform/cpu_feature_guard.cc:193] This TensorFlow binary is optimized with oneAPI Deep Neural Network Library (oneDNN) to use the following CPU instructions in performance-critical operations:  AVX2 AVX512F AVX512_VNNI FMA\n",
      "To enable them in other operations, rebuild TensorFlow with the appropriate compiler flags.\n"
     ]
    }
   ],
   "source": [
    "from tensorflow.keras.preprocessing.text import Tokenizer\n",
    "from tensorflow.keras.preprocessing.sequence import pad_sequences"
   ]
  },
  {
   "cell_type": "markdown",
   "id": "b524afd5-79ed-433d-827b-ac04510ae8ad",
   "metadata": {
    "tags": []
   },
   "source": [
    "tk.texts_to_sequencesUtilizando Tokenizer y pad_sequences de keras a nivel de caracter, obtener la entrada tokenizada. Por ejemplo:\n",
    "\n",
    "**El smiles**:\n",
    "\n",
    "'C[C@@]12CC[C@H]3[C@]4(C)CCC[C@@]5(C)C(=O)OCC[N+](C)(C)CCCCCCCCC[N+](C)(C)CCOC(=O)[C@]6(C)CCC[C@]7(C)[C@@H]6CC[C@@]68C[C@@H](OC(=O)CCCCCCCCC(=O)O[C@@H]1C[C@@]3(CC[C@@H]45)C2)[C@@](C)(CC[C@@H]76)C8.[Br-].[Br-]'\n",
    "\n",
    "**Tendría que quedar algo asi (puede que no sea exacto):**\n",
    "\n",
    "array([ 2, 11,  2, 13, 13, 12,  5,  7,  2,  2, 11,  2, 13, 16, 12, 10, 11,\n",
    "        2, 13, 12, 15,  3,  2,  4,  2,  2,  2, 11,  2, 13, 13, 12, 23,  3,\n",
    "        2,  4,  2,  3,  9,  6,  4,  6,  2,  2, 11,  8, 21, 12,  3,  2,  4,\n",
    "        3,  2,  4,  2,  2,  2,  2,  2,  2,  2,  2,  2, 11,  8, 21, 12,  3,\n",
    "        2,  4,  3,  2,  4,  2,  2,  6,  2,  3,  9,  6,  4, 11,  2, 13, 12,\n",
    "       30,  3,  2,  4,  2,  2,  2, 11,  2, 13, 12, 35,  3,  2,  4, 11,  2,\n",
    "       13, 13, 16, 12, 30,  2,  2, 11,  2, 13, 13, 12, 30, 36,  2, 11,  2,\n",
    "       13, 13, 16, 12,  3,  6,  2,  3,  9,  6,  4,  2,  2,  2,  2,  2,  2,\n",
    "        2,  2,  2,  3,  9,  6,  4,  6, 11,  2, 13, 13, 16, 12,  5,  2, 11,\n",
    "        2, 13, 13, 12, 10,  3,  2,  2, 11,  2, 13, 13, 16, 12, 15, 23,  4,\n",
    "        2,  7,  4, 11,  2, 13, 13, 12,  3,  2,  4,  3,  2,  2, 11,  2, 13,\n",
    "       13, 16, 12, 35, 30,  4,  2, 36, 20, 11, 25, 26, 17, 12, 20, 11, 25,\n",
    "       26, 17, 12], dtype=int32)\n",
    "       \n",
    "\n",
    "**Otro ejemplo:**\n",
    "smiles: 'NC(=O)O'\n",
    "\n",
    "array([0, 0, 0, 0, 0, 0, 0, 0, 0, 0, 0, 0, 0, 0, 0, 0, 0, 0, 0, 0, 0, 0,\n",
    "       0, 0, 0, 0, 0, 0, 0, 0, 0, 0, 0, 0, 0, 0, 0, 0, 0, 0, 0, 0, 0, 0,\n",
    "       0, 0, 0, 0, 0, 0, 0, 0, 0, 0, 0, 0, 0, 0, 0, 0, 0, 0, 0, 0, 0, 0,\n",
    "       0, 0, 0, 0, 0, 0, 0, 0, 0, 0, 0, 0, 0, 0, 0, 0, 0, 0, 0, 0, 0, 0,\n",
    "       0, 0, 0, 0, 0, 0, 0, 0, 0, 0, 0, 0, 0, 0, 0, 0, 0, 0, 0, 0, 0, 0,\n",
    "       0, 0, 0, 0, 0, 0, 0, 0, 0, 0, 0, 0, 0, 0, 0, 0, 0, 0, 0, 0, 0, 0,\n",
    "       0, 0, 0, 0, 0, 0, 0, 0, 0, 0, 0, 0, 0, 0, 0, 0, 0, 0, 0, 0, 0, 0,\n",
    "       0, 0, 0, 0, 0, 0, 0, 0, 0, 0, 0, 0, 0, 0, 0, 0, 0, 0, 0, 0, 0, 0,\n",
    "       0, 0, 0, 0, 0, 0, 0, 0, 0, 0, 0, 0, 0, 0, 0, 0, 0, 0, 0, 0, 0, 0,\n",
    "       0, 0, 8, 2, 3, 9, 6, 4, 6], dtype=int32)\n",
    "\n",
    "**Tener en cuenta:**\n",
    "\n",
    "- Ver cuanta es la máxima longitud para agregar el padding correspondiente\n",
    "- En el ejemplo se agrego padding a la izquierda"
   ]
  },
  {
   "cell_type": "code",
   "execution_count": 9,
   "id": "07f8fff5-c1f6-48d6-9e19-ee5defde20b1",
   "metadata": {},
   "outputs": [],
   "source": [
    "max_len_idx = df['canonical_smiles'].apply(len).argmax()\n",
    "min_len_idx = df['canonical_smiles'].apply(len).argmin()\n",
    "\n",
    "max_len = len(df.iloc[max_len_idx].canonical_smiles)"
   ]
  },
  {
   "cell_type": "markdown",
   "id": "234452b0-2798-487a-8715-435c8a1c795f",
   "metadata": {},
   "source": [
    "### Tokenizer 1"
   ]
  },
  {
   "cell_type": "code",
   "execution_count": 10,
   "id": "09894d86-4408-469c-b1f9-60f6d7218b5c",
   "metadata": {},
   "outputs": [],
   "source": [
    "# Implementar tokenización y guardar en X_seq_pad el dataset tokenizado"
   ]
  },
  {
   "cell_type": "code",
   "execution_count": 11,
   "id": "6d4291cb-f16c-477d-b6d1-184791d0f7b0",
   "metadata": {
    "tags": []
   },
   "outputs": [],
   "source": [
    "# Basic tokenizer, at char level\n",
    "tk = Tokenizer(\n",
    "    lower=False,\n",
    "    char_level=True,\n",
    ")\n",
    "tk.fit_on_texts(X)\n",
    "# tk.word_index"
   ]
  },
  {
   "cell_type": "code",
   "execution_count": 12,
   "id": "a14032d2-1a1f-4e31-8961-0f27e75d5fb2",
   "metadata": {},
   "outputs": [],
   "source": [
    "X_seq = tk.texts_to_sequences(X)\n",
    "X_seq_pad = pad_sequences(\n",
    "    X_seq,\n",
    "    maxlen = max_len,\n",
    "    padding='pre'\n",
    ")"
   ]
  },
  {
   "cell_type": "code",
   "execution_count": 13,
   "id": "8b0fbdd5-d6c6-47c9-9184-c4d2821812e7",
   "metadata": {},
   "outputs": [
    {
     "data": {
      "text/plain": [
       "array([[0, 0, 0, 0, 0, 0, 0, 0, 0, 0, 0, 0, 0, 0, 0, 0, 0, 0, 0, 0, 0, 0,\n",
       "        0, 0, 0, 0, 0, 0, 0, 0, 0, 0, 0, 0, 0, 0, 0, 0, 0, 0, 0, 0, 0, 0,\n",
       "        0, 0, 0, 0, 0, 0, 0, 0, 0, 0, 0, 0, 0, 0, 0, 0, 0, 0, 0, 0, 0, 0,\n",
       "        0, 0, 0, 0, 0, 0, 0, 0, 0, 0, 0, 0, 0, 0, 0, 0, 0, 0, 0, 0, 0, 0,\n",
       "        0, 0, 0, 0, 0, 0, 0, 0, 0, 0, 0, 0, 0, 0, 0, 0, 0, 0, 0, 0, 0, 0,\n",
       "        0, 0, 0, 0, 0, 0, 0, 0, 0, 0, 0, 0, 0, 0, 0, 0, 0, 0, 0, 0, 0, 0,\n",
       "        0, 0, 0, 0, 0, 0, 0, 0, 0, 0, 0, 0, 0, 0, 0, 0, 0, 0, 0, 0, 0, 0,\n",
       "        0, 0, 0, 0, 0, 0, 0, 0, 0, 0, 0, 0, 0, 0, 0, 0, 0, 0, 0, 0, 0, 0,\n",
       "        0, 0, 0, 0, 0, 0, 0, 0, 0, 0, 0, 0, 0, 0, 0, 0, 0, 0, 0, 0, 0, 0,\n",
       "        0, 0, 8, 2, 3, 9, 6, 4, 6]], dtype=int32)"
      ]
     },
     "execution_count": 13,
     "metadata": {},
     "output_type": "execute_result"
    }
   ],
   "source": [
    "example = \"NC(=O)O\"\n",
    "pad_sequences(tk.texts_to_sequences([example]), maxlen = max_len)"
   ]
  },
  {
   "cell_type": "markdown",
   "id": "4233710d-9274-4dae-b22d-cf42b57ad862",
   "metadata": {
    "tags": []
   },
   "source": [
    "## Train-Test Split"
   ]
  },
  {
   "cell_type": "code",
   "execution_count": 14,
   "id": "fcb9840f-2f41-45be-99a5-f05f3ab73ed8",
   "metadata": {
    "tags": []
   },
   "outputs": [
    {
     "data": {
      "text/plain": [
       "(3726, 932, 1165)"
      ]
     },
     "execution_count": 35,
     "metadata": {},
     "output_type": "execute_result"
    }
   ],
   "source": [
    "from sklearn.model_selection import train_test_split\n",
    "\n",
    "\n",
    "X_train, X_test, y_train, y_test = train_test_split(\n",
    "    X_seq_pad, \n",
    "    y, \n",
    "    test_size=0.2, \n",
    "    random_state=88\n",
    ")\n",
    "\n",
    "X_train, X_val, y_train, y_val = train_test_split(\n",
    "    X_train, \n",
    "    y_train, \n",
    "    test_size=0.2, \n",
    "    random_state=88\n",
    ")\n",
    "\n",
    "len(X_train), len(X_val), len(X_test)"
   ]
  },
  {
   "cell_type": "code",
   "execution_count": 16,
   "id": "0bfaec28-56dd-49cd-8b80-7f77d898a0bd",
   "metadata": {},
   "outputs": [],
   "source": [
    "# # Elimino outliers (5%) -> No ayuda\n",
    "# \n",
    "# top_cut_value = y_train.quantile(.975)\n",
    "# bottom_cut_value = y_train.quantile(.025)\n",
    "# \n",
    "# _ = [el for el in zip(y_train, X_train) if el[0] > bottom_cut_value and el[0] < top_cut_value]\n",
    "# \n",
    "# y_train = pd.Series([el[0] for el in _])\n",
    "# X_train = np.array([(el[1]) for el in _])"
   ]
  },
  {
   "cell_type": "code",
   "execution_count": 17,
   "id": "6dd0a3c2-f5fe-4b11-94c9-3a5a84579369",
   "metadata": {},
   "outputs": [],
   "source": [
    "# Normalización -> No ayuda\n",
    "# y_train_mean = y_train.mean()\n",
    "# y_train_std = y_train.std()\n",
    "# \n",
    "# y_train = (y_train - y_train_mean) / y_train_std\n",
    "# y_test = (y_test - y_train_mean) / y_train_std"
   ]
  },
  {
   "cell_type": "code",
   "execution_count": 18,
   "id": "fa53eda6-9657-44d2-9fdf-7d7ff472a611",
   "metadata": {},
   "outputs": [],
   "source": [
    "# sns.histplot(data=np.log(y_train))\n",
    "# sns.histplot(data=y_train)"
   ]
  },
  {
   "cell_type": "markdown",
   "id": "85941430-2534-4d7d-ba52-d934a31c1bf6",
   "metadata": {
    "tags": []
   },
   "source": [
    "## Network Model"
   ]
  },
  {
   "cell_type": "code",
   "execution_count": 19,
   "id": "555a442a-1f33-49c1-945f-e0595675e4bd",
   "metadata": {
    "tags": []
   },
   "outputs": [],
   "source": [
    "# %load_ext tensorboard"
   ]
  },
  {
   "cell_type": "code",
   "execution_count": 20,
   "id": "6bd5d1bf-4640-4cbc-acd3-72881ddcc07e",
   "metadata": {},
   "outputs": [],
   "source": [
    "# Imports\n",
    "from datetime import datetime as dt\n",
    "\n",
    "from tensorflow.keras.callbacks import ModelCheckpoint, EarlyStopping, TensorBoard\n",
    "from tensorflow.keras.optimizers import RMSprop, Adam, Nadam\n",
    "from tensorflow.keras import backend as K"
   ]
  },
  {
   "cell_type": "code",
   "execution_count": 21,
   "id": "4bf115a2-9f1b-42b8-9b62-59728f1da977",
   "metadata": {},
   "outputs": [],
   "source": [
    "# Métrica\n",
    "def R2(y_true, y_pred):\n",
    "    SS_res =  K.sum(K.square( y_true-y_pred ))\n",
    "    SS_tot = K.sum(K.square( y_true - K.mean(y_true) ) )\n",
    "    return ( 1 - SS_res/(SS_tot + K.epsilon()) )\n",
    "\n",
    "def calculate_r2(y_true, y_pred, _round=8):\n",
    "    return round(1 - ((y_true.values - y_pred.reshape(-1)) ** 2).sum() / ((y_true - y_true.mean()) ** 2).sum(), _round)"
   ]
  },
  {
   "cell_type": "code",
   "execution_count": 22,
   "id": "a6e8bbee-48b2-494f-90ab-3cb0f49197cf",
   "metadata": {},
   "outputs": [],
   "source": [
    "# ModelCheckpoint\n",
    "mcp = ModelCheckpoint(\n",
    "    'models/best_model_{epoch}', \n",
    "    save_best_only=True, \n",
    "    save_format=\"h5\",\n",
    ")"
   ]
  },
  {
   "cell_type": "code",
   "execution_count": 23,
   "id": "2ec12f1b-99c4-4393-bcb7-56c3abf1272b",
   "metadata": {},
   "outputs": [],
   "source": [
    "# EarlyStopping\n",
    "early_stopping = EarlyStopping(\n",
    "    monitor='val_loss',\n",
    "    patience=10,                  # number of epochs with no improvement (0 means the training \n",
    "                                  # is terminated as soon as the performance measure gets worse \n",
    "                                  # from one epoch to the next)\n",
    "    restore_best_weights=True\n",
    ")"
   ]
  },
  {
   "cell_type": "code",
   "execution_count": 24,
   "id": "ff87003a-d662-4126-b96c-a2a5c829c15d",
   "metadata": {},
   "outputs": [],
   "source": [
    "# Tensorboard\n",
    "tensorboard = TensorBoard(\n",
    "    log_dir=\"logs/fit/model-default\",\n",
    "    histogram_freq=1,\n",
    "    write_graph=False,\n",
    "    write_images=False\n",
    ")"
   ]
  },
  {
   "cell_type": "code",
   "execution_count": 25,
   "id": "94f43198-d625-4584-9554-ac0ec0b2a393",
   "metadata": {},
   "outputs": [
    {
     "name": "stdout",
     "output_type": "stream",
     "text": [
      "vocab_size: 38, max_sequence_len: 207\n"
     ]
    }
   ],
   "source": [
    "# Constantes\n",
    "vocab_size = len(tk.word_index)\n",
    "print(f\"vocab_size: {vocab_size}, max_sequence_len: {max_len}\")"
   ]
  },
  {
   "cell_type": "markdown",
   "id": "cc91cd42-b885-4ab5-b348-57296b0c0d10",
   "metadata": {},
   "source": [
    "## Armar modelo en keras de LSTM"
   ]
  },
  {
   "cell_type": "code",
   "execution_count": 26,
   "id": "f28133e5-3db2-491d-81b9-67e8f13135f4",
   "metadata": {},
   "outputs": [
    {
     "name": "stderr",
     "output_type": "stream",
     "text": [
      "2023-02-21 12:16:00.759291: I tensorflow/core/platform/cpu_feature_guard.cc:193] This TensorFlow binary is optimized with oneAPI Deep Neural Network Library (oneDNN) to use the following CPU instructions in performance-critical operations:  AVX2 AVX512F AVX512_VNNI FMA\n",
      "To enable them in other operations, rebuild TensorFlow with the appropriate compiler flags.\n"
     ]
    }
   ],
   "source": [
    "from models import create_model\n",
    "\n",
    "model = create_model(vocab_size, max_len)"
   ]
  },
  {
   "cell_type": "code",
   "execution_count": 27,
   "id": "237c1327-028f-4f70-bd29-ea94cd999686",
   "metadata": {},
   "outputs": [
    {
     "name": "stdout",
     "output_type": "stream",
     "text": [
      "Model: \"sequential\"\n",
      "_________________________________________________________________\n",
      " Layer (type)                Output Shape              Param #   \n",
      "=================================================================\n",
      " embedding (Embedding)       (None, 207, 64)           2496      \n",
      "                                                                 \n",
      " bidirectional (Bidirectiona  (None, 207, 256)         148992    \n",
      " l)                                                              \n",
      "                                                                 \n",
      " bidirectional_1 (Bidirectio  (None, 256)              296448    \n",
      " nal)                                                            \n",
      "                                                                 \n",
      " dropout (Dropout)           (None, 256)               0         \n",
      "                                                                 \n",
      " dense (Dense)               (None, 50)                12850     \n",
      "                                                                 \n",
      " batch_normalization (BatchN  (None, 50)               200       \n",
      " ormalization)                                                   \n",
      "                                                                 \n",
      " activation (Activation)     (None, 50)                0         \n",
      "                                                                 \n",
      " dense_1 (Dense)             (None, 1)                 51        \n",
      "                                                                 \n",
      "=================================================================\n",
      "Total params: 461,037\n",
      "Trainable params: 460,937\n",
      "Non-trainable params: 100\n",
      "_________________________________________________________________\n"
     ]
    }
   ],
   "source": [
    "model.summary()"
   ]
  },
  {
   "cell_type": "code",
   "execution_count": 28,
   "id": "9138b411-fc5d-41bd-8c8e-c12580cc5b14",
   "metadata": {},
   "outputs": [],
   "source": [
    "model.compile(\n",
    "    optimizer=Nadam(\n",
    "        learning_rate=0.001\n",
    "    ),  # RMSprop, Adam, Nadam\n",
    "    loss=\"mse\",\n",
    "    metrics=[R2]\n",
    ")"
   ]
  },
  {
   "cell_type": "code",
   "execution_count": 29,
   "id": "716479e1-7132-4ffd-a52e-91976045e437",
   "metadata": {},
   "outputs": [
    {
     "name": "stdout",
     "output_type": "stream",
     "text": [
      "Known TensorBoard instances:\n",
      "  - port 6006: logdir logs/fit/ (started 22:39:22 ago; pid 2193)\n"
     ]
    }
   ],
   "source": [
    "## Tensorboard\n",
    "from tensorboard import notebook\n",
    "notebook.list() \n",
    "\n",
    "# %tensorboard --logdir logs/fit/\n",
    "# !tensorboard --logdir logs/fit/ -> Run in your cli (with poetry)"
   ]
  },
  {
   "cell_type": "code",
   "execution_count": 36,
   "id": "3f37ab4e-0e3a-44c6-a572-ba5c67930c61",
   "metadata": {
    "tags": []
   },
   "outputs": [
    {
     "name": "stdout",
     "output_type": "stream",
     "text": [
      "Epoch 1/500\n",
      "30/30 [==============================] - 46s 2s/step - loss: 0.7165 - R2: 0.6946 - val_loss: 1.1627 - val_R2: 0.5761\n",
      "Epoch 2/500\n",
      "30/30 [==============================] - 44s 1s/step - loss: 0.6841 - R2: 0.7290 - val_loss: 1.0639 - val_R2: 0.6175\n",
      "Epoch 3/500\n",
      "30/30 [==============================] - 44s 1s/step - loss: 0.6952 - R2: 0.7193 - val_loss: 0.9868 - val_R2: 0.6493\n",
      "Epoch 4/500\n",
      "30/30 [==============================] - 45s 2s/step - loss: 0.6912 - R2: 0.7200 - val_loss: 1.1170 - val_R2: 0.5941\n",
      "Epoch 5/500\n",
      "30/30 [==============================] - 46s 2s/step - loss: 0.6567 - R2: 0.7356 - val_loss: 1.0698 - val_R2: 0.6100\n",
      "Epoch 6/500\n",
      "30/30 [==============================] - 47s 2s/step - loss: 0.6517 - R2: 0.7355 - val_loss: 0.9840 - val_R2: 0.6475\n",
      "Epoch 7/500\n",
      "30/30 [==============================] - 47s 2s/step - loss: 0.6523 - R2: 0.7252 - val_loss: 1.0507 - val_R2: 0.6231\n",
      "Epoch 8/500\n",
      "30/30 [==============================] - 44s 1s/step - loss: 0.6460 - R2: 0.7393 - val_loss: 1.0649 - val_R2: 0.6215\n",
      "Epoch 9/500\n",
      "30/30 [==============================] - 42s 1s/step - loss: 0.6244 - R2: 0.7573 - val_loss: 1.0902 - val_R2: 0.6052\n",
      "Epoch 10/500\n",
      "30/30 [==============================] - 43s 1s/step - loss: 0.6113 - R2: 0.7453 - val_loss: 1.0001 - val_R2: 0.6402\n",
      "Epoch 11/500\n",
      "30/30 [==============================] - 52s 2s/step - loss: 0.6231 - R2: 0.7473 - val_loss: 1.0697 - val_R2: 0.6186\n",
      "Epoch 12/500\n",
      "30/30 [==============================] - 45s 1s/step - loss: 0.6014 - R2: 0.7417 - val_loss: 1.0365 - val_R2: 0.6220\n",
      "Epoch 13/500\n",
      "30/30 [==============================] - 48s 2s/step - loss: 0.5802 - R2: 0.7658 - val_loss: 1.0480 - val_R2: 0.6250\n",
      "Epoch 14/500\n",
      "30/30 [==============================] - 47s 2s/step - loss: 0.6200 - R2: 0.7025 - val_loss: 1.0900 - val_R2: 0.6046\n",
      "Epoch 15/500\n",
      "30/30 [==============================] - 49s 2s/step - loss: 0.6484 - R2: 0.7461 - val_loss: 1.0305 - val_R2: 0.6281\n",
      "Epoch 16/500\n",
      "30/30 [==============================] - 45s 2s/step - loss: 0.5829 - R2: 0.7387 - val_loss: 1.0966 - val_R2: 0.5981\n"
     ]
    }
   ],
   "source": [
    "model_name = \"model\"\n",
    "tensorboard.log_dir = f\"logs/fit/model-{model_name}-{dt.now().strftime('%Y%m%dT%H%M')}\"\n",
    "\n",
    "EPOCHS = 500  # La idea es que se detenga por el earlyStopping\n",
    "\n",
    "history = model.fit(\n",
    "    X_train, \n",
    "    y_train, \n",
    "    epochs=EPOCHS, \n",
    "    batch_size=128, \n",
    "    validation_data=(X_val, y_val), \n",
    "    callbacks=[\n",
    "        # mcp,\n",
    "        early_stopping,\n",
    "        tensorboard\n",
    "    ]\n",
    ")"
   ]
  },
  {
   "cell_type": "code",
   "execution_count": 37,
   "id": "0084fbb1-e83e-4808-99bf-1458f3ea3076",
   "metadata": {},
   "outputs": [
    {
     "name": "stdout",
     "output_type": "stream",
     "text": [
      "37/37 [==============================] - 4s 118ms/step\n"
     ]
    }
   ],
   "source": [
    "y_pred = model.predict(X_test)  # 120 epochs"
   ]
  },
  {
   "cell_type": "code",
   "execution_count": 38,
   "id": "4e7cde7f-d656-423a-803c-97f65014d16f",
   "metadata": {},
   "outputs": [
    {
     "name": "stdout",
     "output_type": "stream",
     "text": [
      "R2: 0.502; ref value: 0.498\n"
     ]
    }
   ],
   "source": [
    "# Score\n",
    "print(f\"R2: {calculate_r2(y_test, y_pred, 3)}; ref value: 0.498\")\n",
    "# "
   ]
  },
  {
   "cell_type": "markdown",
   "id": "5f683e18-c876-4f7c-93ea-a33d495dcdaa",
   "metadata": {},
   "source": [
    "## Load model (solo si se grabo el modelo)"
   ]
  },
  {
   "cell_type": "code",
   "execution_count": 33,
   "id": "285c8740-f0bb-4237-8593-ff9b815de0e3",
   "metadata": {},
   "outputs": [],
   "source": [
    "# from tensorflow.keras.models import load_model\n",
    "# \n",
    "# # model_loaded = load_model('models/embed_64_bi_lstm_100_dense_50_bn.h5', custom_objects={'R2': R2})\n",
    "# y_pred = model_loaded.predict(X_test)\n",
    "# r2 = 1 - ((y_test.values - y_pred.reshape(-1)) ** 2).sum() / ((y_test - y_test.mean()) ** 2).sum()\n",
    "# \n",
    "# r2\n",
    "# print(f\"R2: {round(r2, 3)}; ref value: 0.498\")"
   ]
  },
  {
   "cell_type": "markdown",
   "id": "7f1a6260-e31f-4e5e-a923-ce67bf31152f",
   "metadata": {
    "tags": []
   },
   "source": [
    "## Evaluación"
   ]
  },
  {
   "cell_type": "code",
   "execution_count": 34,
   "id": "7dd9d7e6-2789-459e-b9dd-593e10847fc4",
   "metadata": {},
   "outputs": [
    {
     "data": {
      "text/plain": [
       "<function matplotlib.pyplot.show(close=None, block=None)>"
      ]
     },
     "execution_count": 34,
     "metadata": {},
     "output_type": "execute_result"
    },
    {
     "data": {
      "image/png": "[encoded data removed]",
      "text/plain": [
       "<Figure size 500x500 with 1 Axes>"
      ]
     },
     "metadata": {},
     "output_type": "display_data"
    }
   ],
   "source": [
    "import seaborn as sns\n",
    "import matplotlib.pyplot as plt\n",
    "\n",
    "sns.set(color_codes=True)\n",
    "sns.set_style(\"white\")\n",
    "\n",
    "ax = sns.regplot(x=y_test, y=y_pred, scatter_kws={'alpha':0.4})\n",
    "ax.set_xlabel('Experimental pIC50', fontsize='large', fontweight='bold')\n",
    "ax.set_ylabel('Predicted pIC50', fontsize='large', fontweight='bold')\n",
    "ax.set_xlim(0, 12)\n",
    "ax.set_ylim(0, 12)\n",
    "ax.figure.set_size_inches(5, 5)\n",
    "plt.show"
   ]
  },
  {
   "cell_type": "code",
   "execution_count": null,
   "id": "bd7e40ca-bbaf-4622-bf9c-bb18b93c75f3",
   "metadata": {},
   "outputs": [],
   "source": []
  }
 ],
 "metadata": {
  "kernelspec": {
   "display_name": "bioinformatics_final_project",
   "language": "python",
   "name": "bioinformatics_final_project"
  },
  "language_info": {
   "codemirror_mode": {
    "name": "ipython",
    "version": 3
   },
   "file_extension": ".py",
   "mimetype": "text/x-python",
   "name": "python",
   "nbconvert_exporter": "python",
   "pygments_lexer": "ipython3",
   "version": "3.9.16"
  }
 },
 "nbformat": 4,
 "nbformat_minor": 5
}
