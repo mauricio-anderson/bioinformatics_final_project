{
 "cells": [
  {
   "cell_type": "markdown",
   "id": "afc92861-86dc-44ad-b27c-b5ffd044472a",
   "metadata": {},
   "source": [
    "# ¿Que más se podría hacer?"
   ]
  },
  {
   "cell_type": "code",
   "execution_count": 1,
   "id": "5bd9bc69-6cef-4115-91c9-c1377e01204f",
   "metadata": {},
   "outputs": [],
   "source": [
    "%load_ext autoreload\n",
    "%autoreload 2"
   ]
  },
  {
   "cell_type": "markdown",
   "id": "704dd533-a652-4bbf-97b9-e2923e11d78d",
   "metadata": {},
   "source": [
    "- Test con data augmentation y la LSTM\n",
    "- Usar los tokenizadores usados en los transformers para ver como funcionan\n",
    "- TSNE de embeddings y analizar si hay interpretación\n",
    "- Probar con otras encimas o proteinas\n",
    "- Usar los embeddings entrenados para analizar resultados de proteinas o encimas con menos data\n",
    "- Entrenar una red neuronal con los features (fingerprints por ejemplo) y comparar los resultados con los embeddings\n"
   ]
  },
  {
   "cell_type": "markdown",
   "id": "2085f015-56fa-4364-958d-b7a0786372af",
   "metadata": {},
   "source": [
    "# Tome cualquiera de estas propuestas o alguna suya y desarrolle"
   ]
  },
  {
   "cell_type": "code",
   "execution_count": null,
   "id": "5a6c1d41-3670-477b-910f-a1f037b02102",
   "metadata": {},
   "outputs": [],
   "source": []
  },
  {
   "cell_type": "markdown",
   "id": "5f14be7d-1d32-4017-9074-48b515e25831",
   "metadata": {},
   "source": [
    "<b>Entreno una red neuronal utilizando los featres provistos en el dataset</b>"
   ]
  },
  {
   "cell_type": "code",
   "execution_count": null,
   "id": "5fcd3c67-29fb-4c00-bd14-b5239823eb53",
   "metadata": {},
   "outputs": [],
   "source": []
  },
  {
   "cell_type": "code",
   "execution_count": 19,
   "id": "aa8817ad-f267-4e2f-9a7b-a2129dc1bf03",
   "metadata": {},
   "outputs": [],
   "source": [
    "import pandas as pd\n",
    "import numpy as np\n"
   ]
  },
  {
   "cell_type": "markdown",
   "id": "f67ebee8-fcc2-482c-88c8-3fbb4ba216f8",
   "metadata": {
    "tags": []
   },
   "source": [
    "## Obtención de datos para entrenamiento"
   ]
  },
  {
   "cell_type": "code",
   "execution_count": 32,
   "id": "3f5721bb-b386-4fa3-bc78-6304a75ce1ff",
   "metadata": {},
   "outputs": [],
   "source": [
    "DATA_PATH = 'data/acetylcholinesterase_02_bioactivity_data_preprocessed_full.pkl'"
   ]
  },
  {
   "cell_type": "code",
   "execution_count": 33,
   "id": "e336d280-72e6-43fe-b89e-36df631987ee",
   "metadata": {},
   "outputs": [],
   "source": [
    "try:\n",
    "\n",
    "    df = pd.read_pickle(DATA_PATH)\n",
    "\n",
    "except FileNotFoundError:\n",
    "\n",
    "    print(\"Preparando dataset...\\n\")\n",
    "    \n",
    "    from chembl_webresource_client.new_client import new_client\n",
    "\n",
    "    target = new_client.target\n",
    "    target_query = target.search('acetylcholinesterase')\n",
    "    targets = pd.DataFrame.from_dict(target_query)\n",
    "\n",
    "\n",
    "    selected_target = targets.target_chembl_id[0]\n",
    "    print(f\"selected_target: {selected_target}\\n\")\n",
    "\n",
    "\n",
    "    activity = new_client.activity\n",
    "    res = activity.filter(target_chembl_id=selected_target).filter(standard_type=\"IC50\")\n",
    "\n",
    "    res_cols = []\n",
    "    for i, r in enumerate(res):\n",
    "        print(f'downloaded: {i}\\r', end='')\n",
    "        res_cols.append(r)\n",
    "\n",
    "    df = pd.DataFrame(res_cols)\n",
    "\n",
    "    df = df.dropna(subset=['standard_value', 'canonical_smiles'])\n",
    "    df = df.drop_duplicates(['canonical_smiles'])\n",
    "\n",
    "    df['standard_value'] = df['standard_value'].apply(pd.to_numeric)\n",
    "    df['standard_value_norm'] = df['standard_value'].apply(lambda x: (x>1e8)*1e8 + (x<=1e8)*x)\n",
    "    df['pIC50'] = df['standard_value'].apply(lambda x: -np.log10(x*(10**-9)))\n",
    "\n",
    "    # Elimino datos no numericos de la columna target. De otro modo luego ocasionan inconvenientes durante \n",
    "    # el proceso de entrenamiento\n",
    "    df = df[~df.isin([np.nan, np.inf, -np.inf]).any(1)]\n",
    "\n",
    "    df.to_pickle(DATA_PATH)\n",
    "    print(\"\\nDataset descargado y listo para trabajar\")"
   ]
  },
  {
   "cell_type": "code",
   "execution_count": null,
   "id": "62d7b58b-9301-47d8-964b-2e35e5d5a576",
   "metadata": {},
   "outputs": [],
   "source": []
  },
  {
   "cell_type": "markdown",
   "id": "7dad7913-be5c-451d-aee8-7ce100a757f6",
   "metadata": {},
   "source": [
    "## Completar"
   ]
  },
  {
   "cell_type": "code",
   "execution_count": null,
   "id": "804ce109-ce1d-4114-83c9-429435dd7bad",
   "metadata": {},
   "outputs": [],
   "source": []
  },
  {
   "cell_type": "code",
   "execution_count": 35,
   "id": "29c8901f-4475-4de0-8eca-45a17de70654",
   "metadata": {},
   "outputs": [
    {
     "data": {
      "text/html": [
       "<div>\n",
       "<style scoped>\n",
       "    .dataframe tbody tr th:only-of-type {\n",
       "        vertical-align: middle;\n",
       "    }\n",
       "\n",
       "    .dataframe tbody tr th {\n",
       "        vertical-align: top;\n",
       "    }\n",
       "\n",
       "    .dataframe thead th {\n",
       "        text-align: right;\n",
       "    }\n",
       "</style>\n",
       "<table border=\"1\" class=\"dataframe\">\n",
       "  <thead>\n",
       "    <tr style=\"text-align: right;\">\n",
       "      <th></th>\n",
       "      <th>activity_comment</th>\n",
       "      <th>activity_id</th>\n",
       "      <th>activity_properties</th>\n",
       "      <th>assay_chembl_id</th>\n",
       "      <th>assay_description</th>\n",
       "      <th>assay_type</th>\n",
       "      <th>assay_variant_accession</th>\n",
       "      <th>assay_variant_mutation</th>\n",
       "      <th>bao_endpoint</th>\n",
       "      <th>bao_format</th>\n",
       "      <th>...</th>\n",
       "      <th>target_tax_id</th>\n",
       "      <th>text_value</th>\n",
       "      <th>toid</th>\n",
       "      <th>type</th>\n",
       "      <th>units</th>\n",
       "      <th>uo_units</th>\n",
       "      <th>upper_value</th>\n",
       "      <th>value</th>\n",
       "      <th>standard_value_norm</th>\n",
       "      <th>pIC50</th>\n",
       "    </tr>\n",
       "  </thead>\n",
       "  <tbody>\n",
       "    <tr>\n",
       "      <th>0</th>\n",
       "      <td>None</td>\n",
       "      <td>33969</td>\n",
       "      <td>[]</td>\n",
       "      <td>CHEMBL643384</td>\n",
       "      <td>Inhibitory concentration against acetylcholine...</td>\n",
       "      <td>B</td>\n",
       "      <td>None</td>\n",
       "      <td>None</td>\n",
       "      <td>BAO_0000190</td>\n",
       "      <td>BAO_0000357</td>\n",
       "      <td>...</td>\n",
       "      <td>9606</td>\n",
       "      <td>None</td>\n",
       "      <td>None</td>\n",
       "      <td>IC50</td>\n",
       "      <td>uM</td>\n",
       "      <td>UO_0000065</td>\n",
       "      <td>None</td>\n",
       "      <td>0.75</td>\n",
       "      <td>750.0</td>\n",
       "      <td>6.124939</td>\n",
       "    </tr>\n",
       "    <tr>\n",
       "      <th>1</th>\n",
       "      <td>None</td>\n",
       "      <td>37563</td>\n",
       "      <td>[]</td>\n",
       "      <td>CHEMBL643384</td>\n",
       "      <td>Inhibitory concentration against acetylcholine...</td>\n",
       "      <td>B</td>\n",
       "      <td>None</td>\n",
       "      <td>None</td>\n",
       "      <td>BAO_0000190</td>\n",
       "      <td>BAO_0000357</td>\n",
       "      <td>...</td>\n",
       "      <td>9606</td>\n",
       "      <td>None</td>\n",
       "      <td>None</td>\n",
       "      <td>IC50</td>\n",
       "      <td>uM</td>\n",
       "      <td>UO_0000065</td>\n",
       "      <td>None</td>\n",
       "      <td>0.1</td>\n",
       "      <td>100.0</td>\n",
       "      <td>7.000000</td>\n",
       "    </tr>\n",
       "    <tr>\n",
       "      <th>2</th>\n",
       "      <td>None</td>\n",
       "      <td>37565</td>\n",
       "      <td>[]</td>\n",
       "      <td>CHEMBL643384</td>\n",
       "      <td>Inhibitory concentration against acetylcholine...</td>\n",
       "      <td>B</td>\n",
       "      <td>None</td>\n",
       "      <td>None</td>\n",
       "      <td>BAO_0000190</td>\n",
       "      <td>BAO_0000357</td>\n",
       "      <td>...</td>\n",
       "      <td>9606</td>\n",
       "      <td>None</td>\n",
       "      <td>None</td>\n",
       "      <td>IC50</td>\n",
       "      <td>uM</td>\n",
       "      <td>UO_0000065</td>\n",
       "      <td>None</td>\n",
       "      <td>50.0</td>\n",
       "      <td>50000.0</td>\n",
       "      <td>4.301030</td>\n",
       "    </tr>\n",
       "  </tbody>\n",
       "</table>\n",
       "<p>3 rows × 47 columns</p>\n",
       "</div>"
      ],
      "text/plain": [
       "  activity_comment  activity_id activity_properties assay_chembl_id  \\\n",
       "0             None        33969                  []    CHEMBL643384   \n",
       "1             None        37563                  []    CHEMBL643384   \n",
       "2             None        37565                  []    CHEMBL643384   \n",
       "\n",
       "                                   assay_description assay_type  \\\n",
       "0  Inhibitory concentration against acetylcholine...          B   \n",
       "1  Inhibitory concentration against acetylcholine...          B   \n",
       "2  Inhibitory concentration against acetylcholine...          B   \n",
       "\n",
       "  assay_variant_accession assay_variant_mutation bao_endpoint   bao_format  \\\n",
       "0                    None                   None  BAO_0000190  BAO_0000357   \n",
       "1                    None                   None  BAO_0000190  BAO_0000357   \n",
       "2                    None                   None  BAO_0000190  BAO_0000357   \n",
       "\n",
       "   ... target_tax_id text_value  toid  type units    uo_units  upper_value  \\\n",
       "0  ...          9606       None  None  IC50    uM  UO_0000065         None   \n",
       "1  ...          9606       None  None  IC50    uM  UO_0000065         None   \n",
       "2  ...          9606       None  None  IC50    uM  UO_0000065         None   \n",
       "\n",
       "  value standard_value_norm     pIC50  \n",
       "0  0.75               750.0  6.124939  \n",
       "1   0.1               100.0  7.000000  \n",
       "2  50.0             50000.0  4.301030  \n",
       "\n",
       "[3 rows x 47 columns]"
      ]
     },
     "execution_count": 35,
     "metadata": {},
     "output_type": "execute_result"
    }
   ],
   "source": [
    "df.head(3)"
   ]
  },
  {
   "cell_type": "code",
   "execution_count": null,
   "id": "1141f1da-3f95-4a63-a525-62d9a1b2ff74",
   "metadata": {},
   "outputs": [],
   "source": []
  },
  {
   "cell_type": "code",
   "execution_count": 37,
   "id": "4d258cff-01f4-4018-ae83-915faefe38b3",
   "metadata": {},
   "outputs": [
    {
     "data": {
      "text/plain": [
       "[{'activity_comment': None,\n",
       "  'activity_id': 33969,\n",
       "  'activity_properties': [],\n",
       "  'assay_chembl_id': 'CHEMBL643384',\n",
       "  'assay_description': 'Inhibitory concentration against acetylcholinesterase',\n",
       "  'assay_type': 'B',\n",
       "  'assay_variant_accession': None,\n",
       "  'assay_variant_mutation': None,\n",
       "  'bao_endpoint': 'BAO_0000190',\n",
       "  'bao_format': 'BAO_0000357',\n",
       "  'bao_label': 'single protein format',\n",
       "  'canonical_smiles': 'CCOc1nn(-c2cccc(OCc3ccccc3)c2)c(=O)o1',\n",
       "  'data_validity_comment': None,\n",
       "  'data_validity_description': None,\n",
       "  'document_chembl_id': 'CHEMBL1148382',\n",
       "  'document_journal': 'J. Med. Chem.',\n",
       "  'document_year': 2004.0,\n",
       "  'ligand_efficiency': {'bei': '19.61',\n",
       "   'le': '0.36',\n",
       "   'lle': '3.32',\n",
       "   'sei': '9.21'},\n",
       "  'molecule_chembl_id': 'CHEMBL133897',\n",
       "  'molecule_pref_name': None,\n",
       "  'parent_molecule_chembl_id': 'CHEMBL133897',\n",
       "  'pchembl_value': '6.12',\n",
       "  'potential_duplicate': 0,\n",
       "  'qudt_units': 'http://www.openphacts.org/units/Nanomolar',\n",
       "  'record_id': 252547,\n",
       "  'relation': '=',\n",
       "  'src_id': 1,\n",
       "  'standard_flag': 1,\n",
       "  'standard_relation': '=',\n",
       "  'standard_text_value': None,\n",
       "  'standard_type': 'IC50',\n",
       "  'standard_units': 'nM',\n",
       "  'standard_upper_value': None,\n",
       "  'standard_value': 750.0,\n",
       "  'target_chembl_id': 'CHEMBL220',\n",
       "  'target_organism': 'Homo sapiens',\n",
       "  'target_pref_name': 'Acetylcholinesterase',\n",
       "  'target_tax_id': '9606',\n",
       "  'text_value': None,\n",
       "  'toid': None,\n",
       "  'type': 'IC50',\n",
       "  'units': 'uM',\n",
       "  'uo_units': 'UO_0000065',\n",
       "  'upper_value': None,\n",
       "  'value': '0.75',\n",
       "  'standard_value_norm': 750.0,\n",
       "  'pIC50': 6.1249387366083}]"
      ]
     },
     "execution_count": 37,
     "metadata": {},
     "output_type": "execute_result"
    }
   ],
   "source": [
    "df.head(1).to_dict(\"records\")"
   ]
  },
  {
   "cell_type": "code",
   "execution_count": null,
   "id": "a0434b4d-d9cc-4fce-93d3-c12bbcfb7d9a",
   "metadata": {},
   "outputs": [],
   "source": []
  },
  {
   "cell_type": "code",
   "execution_count": null,
   "id": "1a8560d3-a75e-418b-ad72-69c9da9637c2",
   "metadata": {},
   "outputs": [],
   "source": []
  },
  {
   "cell_type": "code",
   "execution_count": null,
   "id": "457ceae4-1bab-4b21-9b8e-7b31a4d8de4f",
   "metadata": {},
   "outputs": [],
   "source": []
  }
 ],
 "metadata": {
  "kernelspec": {
   "display_name": "bioinformatics_final_project",
   "language": "python",
   "name": "bioinformatics_final_project"
  },
  "language_info": {
   "codemirror_mode": {
    "name": "ipython",
    "version": 3
   },
   "file_extension": ".py",
   "mimetype": "text/x-python",
   "name": "python",
   "nbconvert_exporter": "python",
   "pygments_lexer": "ipython3",
   "version": "3.9.16"
  }
 },
 "nbformat": 4,
 "nbformat_minor": 5
}
